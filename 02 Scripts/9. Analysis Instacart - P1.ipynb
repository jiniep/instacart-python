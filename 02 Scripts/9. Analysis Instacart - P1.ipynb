{
 "cells": [
  {
   "cell_type": "markdown",
   "id": "534d7c19",
   "metadata": {},
   "source": [
    "# Analysis of Instacar Data - Part 1"
   ]
  },
  {
   "cell_type": "markdown",
   "id": "1c8557a4",
   "metadata": {},
   "source": [
    "----\n",
    "#### 1. Import data file\n",
    "#### 2. Drop PII Data\n",
    "#### 3. Analysis by Geographical Areas\n",
    "   #### &nbsp;&nbsp;&nbsp;&nbsp;&nbsp;&nbsp; 3.1 Add and set region of customers\n",
    "   #### &nbsp;&nbsp;&nbsp;&nbsp;&nbsp;&nbsp; 3.2 Grouped bar chart: Region vs Spender Type\n",
    "   #### &nbsp;&nbsp;&nbsp;&nbsp;&nbsp;&nbsp; 3.3 Grouped bar chart: Region vs Reorder¶\n",
    "   #### &nbsp;&nbsp;&nbsp;&nbsp;&nbsp;&nbsp; 3.4 Grouped bar chart: Region vs Customer Frequency\n",
    "   #### &nbsp;&nbsp;&nbsp;&nbsp;&nbsp;&nbsp; 3.5 Scatterplot : Income vs Mean Expenses vs Region\n",
    "   #### &nbsp;&nbsp;&nbsp;&nbsp;&nbsp;&nbsp; 3.5.1 Investigate Groups with High Mean_Expenses (more than 10)\n",
    "   #### &nbsp;&nbsp;&nbsp;&nbsp;&nbsp;&nbsp; 3.6 Distribution of Customer Loyalty Types by Region\n",
    "   #### &nbsp;&nbsp;&nbsp;&nbsp;&nbsp;&nbsp; 3.7 Gender Distribution in Regions\n",
    "#### 4. Exclude customers with low activity \n",
    "#### 5. Export Ords Prod Dataframe"
   ]
  },
  {
   "cell_type": "code",
   "execution_count": 2,
   "id": "61cf2bd9",
   "metadata": {},
   "outputs": [],
   "source": [
    "# import libraries\n",
    "import pandas as pd\n",
    "import numpy as np\n",
    "import os\n",
    "import seaborn as sns\n",
    "import matplotlib.pyplot as plt\n",
    "import matplotlib as mpl"
   ]
  },
  {
   "cell_type": "markdown",
   "id": "83e8056d",
   "metadata": {},
   "source": [
    "## 1. Import data file"
   ]
  },
  {
   "cell_type": "code",
   "execution_count": 3,
   "id": "af344d29",
   "metadata": {},
   "outputs": [
    {
     "data": {
      "text/plain": [
       "(32404859, 32)"
      ]
     },
     "execution_count": 3,
     "metadata": {},
     "output_type": "execute_result"
    }
   ],
   "source": [
    "# loading orders_product_cust_types.pkl file into a dataframe\n",
    "path = r'/Users/patel/Documents/CF-Data Anaylst Course/Achievement-4/Instacart Basket Analysis-Oct 2023/'\n",
    "\n",
    "df_ords_cust = pd.read_pickle(os.path.join(path, '02 Data/Prepared Data/ords_prods_customers.pkl'))\n",
    "df_ords_cust.shape"
   ]
  },
  {
   "cell_type": "code",
   "execution_count": 4,
   "id": "6e7364dd",
   "metadata": {},
   "outputs": [
    {
     "data": {
      "text/html": [
       "<div>\n",
       "<style scoped>\n",
       "    .dataframe tbody tr th:only-of-type {\n",
       "        vertical-align: middle;\n",
       "    }\n",
       "\n",
       "    .dataframe tbody tr th {\n",
       "        vertical-align: top;\n",
       "    }\n",
       "\n",
       "    .dataframe thead th {\n",
       "        text-align: right;\n",
       "    }\n",
       "</style>\n",
       "<table border=\"1\" class=\"dataframe\">\n",
       "  <thead>\n",
       "    <tr style=\"text-align: right;\">\n",
       "      <th></th>\n",
       "      <th>order_id</th>\n",
       "      <th>user_id</th>\n",
       "      <th>number_of_orders</th>\n",
       "      <th>orders_days_of_week</th>\n",
       "      <th>order_hour_of_day</th>\n",
       "      <th>days_since_prior_order</th>\n",
       "      <th>product_id</th>\n",
       "      <th>add_to_cart_order</th>\n",
       "      <th>reordered</th>\n",
       "      <th>product_name</th>\n",
       "      <th>...</th>\n",
       "      <th>frequency_cust_type</th>\n",
       "      <th>first_name</th>\n",
       "      <th>last_name</th>\n",
       "      <th>gender</th>\n",
       "      <th>state</th>\n",
       "      <th>age</th>\n",
       "      <th>date_joined</th>\n",
       "      <th>n_dependants</th>\n",
       "      <th>fam_status</th>\n",
       "      <th>income</th>\n",
       "    </tr>\n",
       "  </thead>\n",
       "  <tbody>\n",
       "    <tr>\n",
       "      <th>0</th>\n",
       "      <td>2539329</td>\n",
       "      <td>1</td>\n",
       "      <td>1</td>\n",
       "      <td>2</td>\n",
       "      <td>8</td>\n",
       "      <td>NaN</td>\n",
       "      <td>196</td>\n",
       "      <td>1</td>\n",
       "      <td>0</td>\n",
       "      <td>Soda</td>\n",
       "      <td>...</td>\n",
       "      <td>Non-frequent customer</td>\n",
       "      <td>Linda</td>\n",
       "      <td>Nguyen</td>\n",
       "      <td>Female</td>\n",
       "      <td>Alabama</td>\n",
       "      <td>31</td>\n",
       "      <td>2019-02-17</td>\n",
       "      <td>3</td>\n",
       "      <td>married</td>\n",
       "      <td>40423</td>\n",
       "    </tr>\n",
       "    <tr>\n",
       "      <th>1</th>\n",
       "      <td>2254736</td>\n",
       "      <td>1</td>\n",
       "      <td>4</td>\n",
       "      <td>4</td>\n",
       "      <td>7</td>\n",
       "      <td>29.0</td>\n",
       "      <td>25133</td>\n",
       "      <td>4</td>\n",
       "      <td>1</td>\n",
       "      <td>Organic String Cheese</td>\n",
       "      <td>...</td>\n",
       "      <td>Non-frequent customer</td>\n",
       "      <td>Linda</td>\n",
       "      <td>Nguyen</td>\n",
       "      <td>Female</td>\n",
       "      <td>Alabama</td>\n",
       "      <td>31</td>\n",
       "      <td>2019-02-17</td>\n",
       "      <td>3</td>\n",
       "      <td>married</td>\n",
       "      <td>40423</td>\n",
       "    </tr>\n",
       "    <tr>\n",
       "      <th>2</th>\n",
       "      <td>473747</td>\n",
       "      <td>1</td>\n",
       "      <td>3</td>\n",
       "      <td>3</td>\n",
       "      <td>12</td>\n",
       "      <td>21.0</td>\n",
       "      <td>25133</td>\n",
       "      <td>4</td>\n",
       "      <td>0</td>\n",
       "      <td>Organic String Cheese</td>\n",
       "      <td>...</td>\n",
       "      <td>Non-frequent customer</td>\n",
       "      <td>Linda</td>\n",
       "      <td>Nguyen</td>\n",
       "      <td>Female</td>\n",
       "      <td>Alabama</td>\n",
       "      <td>31</td>\n",
       "      <td>2019-02-17</td>\n",
       "      <td>3</td>\n",
       "      <td>married</td>\n",
       "      <td>40423</td>\n",
       "    </tr>\n",
       "    <tr>\n",
       "      <th>3</th>\n",
       "      <td>2550362</td>\n",
       "      <td>1</td>\n",
       "      <td>10</td>\n",
       "      <td>4</td>\n",
       "      <td>8</td>\n",
       "      <td>30.0</td>\n",
       "      <td>13032</td>\n",
       "      <td>8</td>\n",
       "      <td>1</td>\n",
       "      <td>Cinnamon Toast Crunch</td>\n",
       "      <td>...</td>\n",
       "      <td>Non-frequent customer</td>\n",
       "      <td>Linda</td>\n",
       "      <td>Nguyen</td>\n",
       "      <td>Female</td>\n",
       "      <td>Alabama</td>\n",
       "      <td>31</td>\n",
       "      <td>2019-02-17</td>\n",
       "      <td>3</td>\n",
       "      <td>married</td>\n",
       "      <td>40423</td>\n",
       "    </tr>\n",
       "    <tr>\n",
       "      <th>4</th>\n",
       "      <td>550135</td>\n",
       "      <td>1</td>\n",
       "      <td>7</td>\n",
       "      <td>1</td>\n",
       "      <td>9</td>\n",
       "      <td>20.0</td>\n",
       "      <td>13032</td>\n",
       "      <td>5</td>\n",
       "      <td>1</td>\n",
       "      <td>Cinnamon Toast Crunch</td>\n",
       "      <td>...</td>\n",
       "      <td>Non-frequent customer</td>\n",
       "      <td>Linda</td>\n",
       "      <td>Nguyen</td>\n",
       "      <td>Female</td>\n",
       "      <td>Alabama</td>\n",
       "      <td>31</td>\n",
       "      <td>2019-02-17</td>\n",
       "      <td>3</td>\n",
       "      <td>married</td>\n",
       "      <td>40423</td>\n",
       "    </tr>\n",
       "  </tbody>\n",
       "</table>\n",
       "<p>5 rows × 32 columns</p>\n",
       "</div>"
      ],
      "text/plain": [
       "  order_id user_id  number_of_orders  orders_days_of_week  order_hour_of_day  \\\n",
       "0  2539329       1                 1                    2                  8   \n",
       "1  2254736       1                 4                    4                  7   \n",
       "2   473747       1                 3                    3                 12   \n",
       "3  2550362       1                10                    4                  8   \n",
       "4   550135       1                 7                    1                  9   \n",
       "\n",
       "   days_since_prior_order product_id  add_to_cart_order  reordered  \\\n",
       "0                     NaN        196                  1          0   \n",
       "1                    29.0      25133                  4          1   \n",
       "2                    21.0      25133                  4          0   \n",
       "3                    30.0      13032                  8          1   \n",
       "4                    20.0      13032                  5          1   \n",
       "\n",
       "            product_name  ...    frequency_cust_type  first_name  last_name  \\\n",
       "0                   Soda  ...  Non-frequent customer       Linda     Nguyen   \n",
       "1  Organic String Cheese  ...  Non-frequent customer       Linda     Nguyen   \n",
       "2  Organic String Cheese  ...  Non-frequent customer       Linda     Nguyen   \n",
       "3  Cinnamon Toast Crunch  ...  Non-frequent customer       Linda     Nguyen   \n",
       "4  Cinnamon Toast Crunch  ...  Non-frequent customer       Linda     Nguyen   \n",
       "\n",
       "   gender    state age date_joined  n_dependants fam_status  income  \n",
       "0  Female  Alabama  31  2019-02-17             3    married   40423  \n",
       "1  Female  Alabama  31  2019-02-17             3    married   40423  \n",
       "2  Female  Alabama  31  2019-02-17             3    married   40423  \n",
       "3  Female  Alabama  31  2019-02-17             3    married   40423  \n",
       "4  Female  Alabama  31  2019-02-17             3    married   40423  \n",
       "\n",
       "[5 rows x 32 columns]"
      ]
     },
     "execution_count": 4,
     "metadata": {},
     "output_type": "execute_result"
    }
   ],
   "source": [
    "df_ords_cust.head()"
   ]
  },
  {
   "cell_type": "code",
   "execution_count": 5,
   "id": "6ff60915",
   "metadata": {},
   "outputs": [
    {
     "data": {
      "text/html": [
       "<div>\n",
       "<style scoped>\n",
       "    .dataframe tbody tr th:only-of-type {\n",
       "        vertical-align: middle;\n",
       "    }\n",
       "\n",
       "    .dataframe tbody tr th {\n",
       "        vertical-align: top;\n",
       "    }\n",
       "\n",
       "    .dataframe thead th {\n",
       "        text-align: right;\n",
       "    }\n",
       "</style>\n",
       "<table border=\"1\" class=\"dataframe\">\n",
       "  <thead>\n",
       "    <tr style=\"text-align: right;\">\n",
       "      <th></th>\n",
       "      <th>mean_expenses</th>\n",
       "    </tr>\n",
       "  </thead>\n",
       "  <tbody>\n",
       "    <tr>\n",
       "      <th>count</th>\n",
       "      <td>3.240486e+07</td>\n",
       "    </tr>\n",
       "    <tr>\n",
       "      <th>mean</th>\n",
       "      <td>7.791015e+00</td>\n",
       "    </tr>\n",
       "    <tr>\n",
       "      <th>std</th>\n",
       "      <td>1.010321e+00</td>\n",
       "    </tr>\n",
       "    <tr>\n",
       "      <th>min</th>\n",
       "      <td>1.000000e+00</td>\n",
       "    </tr>\n",
       "    <tr>\n",
       "      <th>25%</th>\n",
       "      <td>7.378489e+00</td>\n",
       "    </tr>\n",
       "    <tr>\n",
       "      <th>50%</th>\n",
       "      <td>7.811940e+00</td>\n",
       "    </tr>\n",
       "    <tr>\n",
       "      <th>75%</th>\n",
       "      <td>8.229327e+00</td>\n",
       "    </tr>\n",
       "    <tr>\n",
       "      <th>max</th>\n",
       "      <td>2.320000e+01</td>\n",
       "    </tr>\n",
       "  </tbody>\n",
       "</table>\n",
       "</div>"
      ],
      "text/plain": [
       "       mean_expenses\n",
       "count   3.240486e+07\n",
       "mean    7.791015e+00\n",
       "std     1.010321e+00\n",
       "min     1.000000e+00\n",
       "25%     7.378489e+00\n",
       "50%     7.811940e+00\n",
       "75%     8.229327e+00\n",
       "max     2.320000e+01"
      ]
     },
     "execution_count": 5,
     "metadata": {},
     "output_type": "execute_result"
    }
   ],
   "source": [
    "df_ords_cust[['user_id', 'mean_expenses']].describe()"
   ]
  },
  {
   "cell_type": "code",
   "execution_count": 6,
   "id": "b97918e0",
   "metadata": {},
   "outputs": [
    {
     "data": {
      "text/plain": [
       "Index(['order_id', 'user_id', 'number_of_orders', 'orders_days_of_week',\n",
       "       'order_hour_of_day', 'days_since_prior_order', 'product_id',\n",
       "       'add_to_cart_order', 'reordered', 'product_name', 'aisle_id',\n",
       "       'department_id', 'prices', 'price_range_loc', 'busiest_day',\n",
       "       'busy_slow_days', 'busiest_hours', 'max_orders', 'loyalty_flag',\n",
       "       'mean_expenses', 'spender_type', 'median_days_prior_purchase',\n",
       "       'frequency_cust_type', 'first_name', 'last_name', 'gender', 'state',\n",
       "       'age', 'date_joined', 'n_dependants', 'fam_status', 'income'],\n",
       "      dtype='object')"
      ]
     },
     "execution_count": 6,
     "metadata": {},
     "output_type": "execute_result"
    }
   ],
   "source": [
    "df_ords_cust.columns"
   ]
  },
  {
   "cell_type": "markdown",
   "id": "353b9bff",
   "metadata": {},
   "source": [
    "## 2. Drop PII Data\n",
    "\n",
    "Following columns contain personal identifying data of users. These columns are not required for the analysis, therefore the columns are being dropped\n",
    "\n",
    "1. first_name\n",
    "2. last_name\n",
    "\n",
    "Following columns are dropped because they are not required for the analysis\n",
    "\n",
    "1. date_joined\n",
    "2. add_to_cart_order\n",
    "3. aisle_id"
   ]
  },
  {
   "cell_type": "code",
   "execution_count": 7,
   "id": "27d9c935",
   "metadata": {},
   "outputs": [
    {
     "data": {
      "text/plain": [
       "(32404859, 27)"
      ]
     },
     "execution_count": 7,
     "metadata": {},
     "output_type": "execute_result"
    }
   ],
   "source": [
    "# dropped the columns listed above assigned the dataframe to df_ords_cust_clean\n",
    "df_ords_cust_clean = df_ords_cust.drop(columns=['first_name', 'last_name', 'date_joined', 'add_to_cart_order', 'aisle_id'])\n",
    "\n",
    "df_ords_cust_clean.shape"
   ]
  },
  {
   "cell_type": "code",
   "execution_count": 8,
   "id": "159f5e96",
   "metadata": {},
   "outputs": [
    {
     "name": "stdout",
     "output_type": "stream",
     "text": [
      "<class 'pandas.core.frame.DataFrame'>\n",
      "Int64Index: 32404859 entries, 0 to 32404858\n",
      "Data columns (total 27 columns):\n",
      " #   Column                      Dtype  \n",
      "---  ------                      -----  \n",
      " 0   order_id                    object \n",
      " 1   user_id                     object \n",
      " 2   number_of_orders            int8   \n",
      " 3   orders_days_of_week         int8   \n",
      " 4   order_hour_of_day           int8   \n",
      " 5   days_since_prior_order      float32\n",
      " 6   product_id                  object \n",
      " 7   reordered                   int8   \n",
      " 8   product_name                object \n",
      " 9   department_id               int8   \n",
      " 10  prices                      float32\n",
      " 11  price_range_loc             object \n",
      " 12  busiest_day                 object \n",
      " 13  busy_slow_days              object \n",
      " 14  busiest_hours               object \n",
      " 15  max_orders                  int8   \n",
      " 16  loyalty_flag                object \n",
      " 17  mean_expenses               float32\n",
      " 18  spender_type                object \n",
      " 19  median_days_prior_purchase  float32\n",
      " 20  frequency_cust_type         object \n",
      " 21  gender                      object \n",
      " 22  state                       object \n",
      " 23  age                         int8   \n",
      " 24  n_dependants                int8   \n",
      " 25  fam_status                  object \n",
      " 26  income                      int32  \n",
      "dtypes: float32(4), int32(1), int8(8), object(14)\n",
      "memory usage: 4.5+ GB\n"
     ]
    }
   ],
   "source": [
    "# checking the columns were dropped. columns reduced from 32 to 27\n",
    "df_ords_cust_clean.info()"
   ]
  },
  {
   "cell_type": "markdown",
   "id": "bf3b7a1d",
   "metadata": {},
   "source": [
    "## 3. Analysis by Geographical Areas"
   ]
  },
  {
   "cell_type": "markdown",
   "id": "5373f84d",
   "metadata": {},
   "source": [
    "### 3.1 Add and set region of customers"
   ]
  },
  {
   "cell_type": "code",
   "execution_count": 9,
   "id": "accdf4cf",
   "metadata": {},
   "outputs": [],
   "source": [
    "# add column 'region' \n",
    "# set 'region' as 'Northeast' for any customers that have state as 'Maine, New Hampshire, Vermont, \n",
    "# Massachusetts, Rhode Island, Connecticut, New York, Pennsylvania, New Jersey'\n",
    "\n",
    "df_ords_cust_clean.loc[df_ords_cust_clean['state'].isin([\"Maine\",\"New Hampshire\", \"Vermont\", \"Massachusetts\", \n",
    "            \"Rhode Island\", \"Connecticut\", \"New York\", \"Pennsylvania\", \"New Jersey\"]), 'region'] = \"Northeast\""
   ]
  },
  {
   "cell_type": "code",
   "execution_count": 10,
   "id": "a1ce4be4",
   "metadata": {},
   "outputs": [],
   "source": [
    "# set 'region' as 'West' for any customers that have the state as 'Idaho, Montana, Wyoming, Nevada,, Utah, \n",
    "# Colorado, Arizona, New Mexico, Alaska, Washington, Oregon, California, Hawaii'\n",
    "\n",
    "df_ords_cust_clean.loc[df_ords_cust_clean['state'].isin([\"Idaho\", \"Montana\", \"Wyoming\", \"Nevada\", \"Utah\", \n",
    "            \"Colorado\", \"Arizona\", \"New Mexico\", \"Alaska\", \"Washington\", \"Oregon\", \"California\", \n",
    "            \"Hawaii\"]), 'region'] = \"West\""
   ]
  },
  {
   "cell_type": "code",
   "execution_count": 11,
   "id": "829dd213",
   "metadata": {},
   "outputs": [],
   "source": [
    "# set 'region' as 'Sowuth' for any customers that have the state as 'Delaware, Maryland, District of Columbia, \n",
    "# Virginia, West Virginia, North Carolina, South Carolina, Georgia, Florida, Kentucky, Tennessee, Mississippi, \n",
    "# Alabama, Oklahoma, Texas, Arkansas,, Louisiana'\n",
    "\n",
    "df_ords_cust_clean.loc[df_ords_cust_clean['state'].isin([\"Delaware\", \"Maryland\", \"District of Columbia\", \n",
    "            \"Virginia\", \"West Virginia\", \"North Carolina\", \"South Carolina\", \"Georgia\", \"Florida\", \"Kentucky\", \n",
    "            \"Tennessee\", \"Mississippi\", \"Alabama\", \"Oklahoma\", \"Texas\", \"Arkansas\", \"Louisiana\"]), 'region'] = \"South\"\n"
   ]
  },
  {
   "cell_type": "code",
   "execution_count": 12,
   "id": "39710677",
   "metadata": {},
   "outputs": [],
   "source": [
    "# set 'region' as 'Midwest' for any customers that have the state as 'Wisconsin, Michigan, Illinois, Indiana, \n",
    "#Ohio, North Dakota, South Dakota, Nebraska, Kansas, Minnesota, Iowa, Missouri'\n",
    "\n",
    "df_ords_cust_clean.loc[df_ords_cust_clean['state'].isin([\"Wisconsin\", \"Michigan\", \"Illinois\", \"Indiana\", \"Ohio\", \n",
    "        \"North Dakota\", \"South Dakota\", \"Nebraska\", \"Kansas\", \"Minnesota\", \"Iowa\", \"Missouri\"]), 'region'] = \"Midwest\""
   ]
  },
  {
   "cell_type": "markdown",
   "id": "ad51cfcb",
   "metadata": {},
   "source": [
    "#### Check regions have been assigned accurately"
   ]
  },
  {
   "cell_type": "code",
   "execution_count": 13,
   "id": "49fe189a",
   "metadata": {},
   "outputs": [
    {
     "data": {
      "text/plain": [
       "region   \n",
       "South        10791885\n",
       "West          8292913\n",
       "Midwest       7597325\n",
       "Northeast     5722736\n",
       "dtype: int64"
      ]
     },
     "execution_count": 13,
     "metadata": {},
     "output_type": "execute_result"
    }
   ],
   "source": [
    "# check the each region exists in the dataframe and there is no skewed count\n",
    "df_ords_cust_clean[['region']].value_counts(dropna='False')"
   ]
  },
  {
   "cell_type": "code",
   "execution_count": 14,
   "id": "c754eb81",
   "metadata": {},
   "outputs": [
    {
     "data": {
      "text/plain": [
       "0"
      ]
     },
     "execution_count": 14,
     "metadata": {},
     "output_type": "execute_result"
    }
   ],
   "source": [
    "# Check there are no null values\n",
    "df_ords_cust_clean['region'].isnull().sum()"
   ]
  },
  {
   "cell_type": "code",
   "execution_count": 15,
   "id": "8afb3bfc",
   "metadata": {},
   "outputs": [
    {
     "data": {
      "text/plain": [
       "region     state               \n",
       "Midwest    Illinois                633024\n",
       "           Indiana                 627282\n",
       "           Iowa                    625493\n",
       "           Kansas                  637538\n",
       "           Michigan                630928\n",
       "           Minnesota               647825\n",
       "           Missouri                640732\n",
       "           Nebraska                625813\n",
       "           North Dakota            638491\n",
       "           Ohio                    628319\n",
       "           South Dakota            633772\n",
       "           Wisconsin               628108\n",
       "Northeast  Connecticut             623022\n",
       "           Maine                   638583\n",
       "           Massachusetts           646358\n",
       "           New Hampshire           615378\n",
       "           New Jersey              627692\n",
       "           New York                635983\n",
       "           Pennsylvania            667082\n",
       "           Rhode Island            656913\n",
       "           Vermont                 611725\n",
       "South      Alabama                 638003\n",
       "           Arkansas                636144\n",
       "           Delaware                637024\n",
       "           District of Columbia    613695\n",
       "           Florida                 629027\n",
       "           Georgia                 656389\n",
       "           Kentucky                632490\n",
       "           Louisiana               637482\n",
       "           Maryland                626579\n",
       "           Mississippi             632675\n",
       "           North Carolina          651900\n",
       "           Oklahoma                651739\n",
       "           South Carolina          636754\n",
       "           Tennessee               617873\n",
       "           Texas                   640394\n",
       "           Virginia                641421\n",
       "           West Virginia           612296\n",
       "West       Alaska                  648495\n",
       "           Arizona                 653964\n",
       "           California              659783\n",
       "           Colorado                639280\n",
       "           Hawaii                  632901\n",
       "           Idaho                   607119\n",
       "           Montana                 635265\n",
       "           Nevada                  636139\n",
       "           New Mexico              654494\n",
       "           Oregon                  636425\n",
       "           Utah                    611941\n",
       "           Washington              632852\n",
       "           Wyoming                 644255\n",
       "dtype: int64"
      ]
     },
     "execution_count": 15,
     "metadata": {},
     "output_type": "execute_result"
    }
   ],
   "source": [
    "# check if state corresponds to correct region\n",
    "df_ords_cust_clean[['region','state']].value_counts(dropna='False').sort_index()"
   ]
  },
  {
   "cell_type": "markdown",
   "id": "02d34c88",
   "metadata": {},
   "source": [
    "### 3.2  Grouped bar chart: Region vs Spender Type"
   ]
  },
  {
   "cell_type": "code",
   "execution_count": 16,
   "id": "db550b33",
   "metadata": {},
   "outputs": [],
   "source": [
    "## Count unique users per region vs spender type\n",
    "region_spender_type = df_ords_cust_clean.groupby(['region','spender_type'], as_index=False).agg({'user_id': 'nunique'})\n",
    "region_spender_type.to_clipboard()"
   ]
  },
  {
   "cell_type": "code",
   "execution_count": 17,
   "id": "3e5ee043",
   "metadata": {},
   "outputs": [
    {
     "name": "stderr",
     "output_type": "stream",
     "text": [
      "/Users/patel/anaconda3/lib/python3.11/site-packages/seaborn/axisgrid.py:118: UserWarning: The figure layout has changed to tight\n",
      "  self._figure.tight_layout(*args, **kwargs)\n"
     ]
    },
    {
     "data": {
      "text/plain": [
       "Text(0.5, 1.0, 'Spending of Customers Across Regions')"
      ]
     },
     "execution_count": 17,
     "metadata": {},
     "output_type": "execute_result"
    },
    {
     "data": {
      "image/png": "[encoded data removed]",
      "text/plain": [
       "<Figure size 746x600 with 1 Axes>"
      ]
     },
     "metadata": {},
     "output_type": "display_data"
    }
   ],
   "source": [
    "# Grouped bar chart to compare spender types in each region\n",
    "sns.set_theme()\n",
    "\n",
    "bar_region_spender = sns.catplot(\n",
    "    data=region_spender_type, kind=\"bar\",\n",
    "    x=\"region\", y=\"user_id\", hue=\"spender_type\", palette=\"husl\", alpha=.6, height=6\n",
    ")\n",
    "bar_region_spender.despine(left=True)\n",
    "bar_region_spender.set_axis_labels(\"regions\", \"number of customers\")\n",
    "bar_region_spender.legend.set_title(\"\")\n",
    "plt.title(\"Spending of Customers Across Regions\")"
   ]
  },
  {
   "cell_type": "markdown",
   "id": "0ab5755b",
   "metadata": {},
   "source": [
    "#### Observations:\n",
    "\n",
    "1. Majority of the customers are located in the Southern states\n",
    "2. All regions have significantly high number of low spenders\n",
    "3. There is minimum difference of high spenders between regions"
   ]
  },
  {
   "cell_type": "code",
   "execution_count": 18,
   "id": "5d1f75d1",
   "metadata": {},
   "outputs": [],
   "source": [
    "bar_region_spender.savefig(os.path.join(path, \n",
    "                        '04 Analysis/Visualizations/bar_region_spender.png'))"
   ]
  },
  {
   "cell_type": "markdown",
   "id": "ff7b7e3e",
   "metadata": {},
   "source": [
    "### 3.3  Grouped bar chart: Region vs Reorder"
   ]
  },
  {
   "cell_type": "code",
   "execution_count": 19,
   "id": "076798c2",
   "metadata": {},
   "outputs": [
    {
     "data": {
      "text/html": [
       "<div>\n",
       "<style scoped>\n",
       "    .dataframe tbody tr th:only-of-type {\n",
       "        vertical-align: middle;\n",
       "    }\n",
       "\n",
       "    .dataframe tbody tr th {\n",
       "        vertical-align: top;\n",
       "    }\n",
       "\n",
       "    .dataframe thead th {\n",
       "        text-align: right;\n",
       "    }\n",
       "</style>\n",
       "<table border=\"1\" class=\"dataframe\">\n",
       "  <thead>\n",
       "    <tr style=\"text-align: right;\">\n",
       "      <th></th>\n",
       "      <th>region</th>\n",
       "      <th>reordered</th>\n",
       "      <th>user_id</th>\n",
       "    </tr>\n",
       "  </thead>\n",
       "  <tbody>\n",
       "    <tr>\n",
       "      <th>0</th>\n",
       "      <td>Midwest</td>\n",
       "      <td>0</td>\n",
       "      <td>48519</td>\n",
       "    </tr>\n",
       "    <tr>\n",
       "      <th>1</th>\n",
       "      <td>Midwest</td>\n",
       "      <td>1</td>\n",
       "      <td>47802</td>\n",
       "    </tr>\n",
       "    <tr>\n",
       "      <th>2</th>\n",
       "      <td>Northeast</td>\n",
       "      <td>0</td>\n",
       "      <td>36388</td>\n",
       "    </tr>\n",
       "    <tr>\n",
       "      <th>3</th>\n",
       "      <td>Northeast</td>\n",
       "      <td>1</td>\n",
       "      <td>35851</td>\n",
       "    </tr>\n",
       "    <tr>\n",
       "      <th>4</th>\n",
       "      <td>South</td>\n",
       "      <td>0</td>\n",
       "      <td>68737</td>\n",
       "    </tr>\n",
       "    <tr>\n",
       "      <th>5</th>\n",
       "      <td>South</td>\n",
       "      <td>1</td>\n",
       "      <td>67750</td>\n",
       "    </tr>\n",
       "    <tr>\n",
       "      <th>6</th>\n",
       "      <td>West</td>\n",
       "      <td>0</td>\n",
       "      <td>52565</td>\n",
       "    </tr>\n",
       "    <tr>\n",
       "      <th>7</th>\n",
       "      <td>West</td>\n",
       "      <td>1</td>\n",
       "      <td>51748</td>\n",
       "    </tr>\n",
       "  </tbody>\n",
       "</table>\n",
       "</div>"
      ],
      "text/plain": [
       "      region  reordered  user_id\n",
       "0    Midwest          0    48519\n",
       "1    Midwest          1    47802\n",
       "2  Northeast          0    36388\n",
       "3  Northeast          1    35851\n",
       "4      South          0    68737\n",
       "5      South          1    67750\n",
       "6       West          0    52565\n",
       "7       West          1    51748"
      ]
     },
     "execution_count": 19,
     "metadata": {},
     "output_type": "execute_result"
    }
   ],
   "source": [
    "## Count unique users per region vs reorder\n",
    "region_reorder_type = df_ords_cust_clean.groupby(['region','reordered'], as_index=False).agg({'user_id': 'nunique'})\n",
    "region_reorder_type"
   ]
  },
  {
   "cell_type": "code",
   "execution_count": 20,
   "id": "58539282",
   "metadata": {
    "scrolled": true
   },
   "outputs": [
    {
     "name": "stderr",
     "output_type": "stream",
     "text": [
      "/Users/patel/anaconda3/lib/python3.11/site-packages/seaborn/axisgrid.py:118: UserWarning: The figure layout has changed to tight\n",
      "  self._figure.tight_layout(*args, **kwargs)\n"
     ]
    },
    {
     "data": {
      "text/plain": [
       "Text(0.5, 1.0, 'Regional Breakdown of Reorders and Single-Time Orders')"
      ]
     },
     "execution_count": 20,
     "metadata": {},
     "output_type": "execute_result"
    },
    {
     "data": {
      "image/png": "[encoded data removed]",
      "text/plain": [
       "<Figure size 684.847x600 with 1 Axes>"
      ]
     },
     "metadata": {},
     "output_type": "display_data"
    }
   ],
   "source": [
    "# Grouped bar chart to compare spender types in each region\n",
    "sns.set_theme()\n",
    "\n",
    "bar_region_reorder = sns.catplot(\n",
    "    data=region_reorder_type, kind=\"bar\",\n",
    "    x=\"region\", y=\"user_id\", hue=\"reordered\", palette=\"husl\", alpha=.6, height=6\n",
    ")\n",
    "bar_region_reorder.despine(left=True)\n",
    "bar_region_reorder.set_axis_labels(\"regions\", \"number of customers\")\n",
    "bar_region_reorder.legend.set_title(\"\")\n",
    "plt.title(\"Regional Breakdown of Reorders and Single-Time Orders\")"
   ]
  },
  {
   "cell_type": "code",
   "execution_count": 21,
   "id": "a254db5b",
   "metadata": {},
   "outputs": [],
   "source": [
    "bar_region_reorder.savefig(os.path.join(path, \n",
    "                        '04 Analysis/Visualizations/bar_region_reorder.png'))"
   ]
  },
  {
   "cell_type": "markdown",
   "id": "06d6e522",
   "metadata": {},
   "source": [
    "### 3.4  Grouped bar chart: Region vs Customer Frequency"
   ]
  },
  {
   "cell_type": "code",
   "execution_count": 22,
   "id": "5e6bfe93",
   "metadata": {
    "scrolled": true
   },
   "outputs": [
    {
     "data": {
      "text/html": [
       "<div>\n",
       "<style scoped>\n",
       "    .dataframe tbody tr th:only-of-type {\n",
       "        vertical-align: middle;\n",
       "    }\n",
       "\n",
       "    .dataframe tbody tr th {\n",
       "        vertical-align: top;\n",
       "    }\n",
       "\n",
       "    .dataframe thead th {\n",
       "        text-align: right;\n",
       "    }\n",
       "</style>\n",
       "<table border=\"1\" class=\"dataframe\">\n",
       "  <thead>\n",
       "    <tr style=\"text-align: right;\">\n",
       "      <th></th>\n",
       "      <th>region</th>\n",
       "      <th>frequency_cust_type</th>\n",
       "      <th>user_id</th>\n",
       "    </tr>\n",
       "  </thead>\n",
       "  <tbody>\n",
       "    <tr>\n",
       "      <th>0</th>\n",
       "      <td>Midwest</td>\n",
       "      <td>Frequent customer</td>\n",
       "      <td>20278</td>\n",
       "    </tr>\n",
       "    <tr>\n",
       "      <th>1</th>\n",
       "      <td>Midwest</td>\n",
       "      <td>Non-frequent customer</td>\n",
       "      <td>14063</td>\n",
       "    </tr>\n",
       "    <tr>\n",
       "      <th>2</th>\n",
       "      <td>Midwest</td>\n",
       "      <td>Regular customer</td>\n",
       "      <td>14178</td>\n",
       "    </tr>\n",
       "    <tr>\n",
       "      <th>3</th>\n",
       "      <td>Northeast</td>\n",
       "      <td>Frequent customer</td>\n",
       "      <td>15272</td>\n",
       "    </tr>\n",
       "    <tr>\n",
       "      <th>4</th>\n",
       "      <td>Northeast</td>\n",
       "      <td>Non-frequent customer</td>\n",
       "      <td>10444</td>\n",
       "    </tr>\n",
       "    <tr>\n",
       "      <th>5</th>\n",
       "      <td>Northeast</td>\n",
       "      <td>Regular customer</td>\n",
       "      <td>10672</td>\n",
       "    </tr>\n",
       "    <tr>\n",
       "      <th>6</th>\n",
       "      <td>South</td>\n",
       "      <td>Frequent customer</td>\n",
       "      <td>28867</td>\n",
       "    </tr>\n",
       "    <tr>\n",
       "      <th>7</th>\n",
       "      <td>South</td>\n",
       "      <td>Non-frequent customer</td>\n",
       "      <td>19934</td>\n",
       "    </tr>\n",
       "    <tr>\n",
       "      <th>8</th>\n",
       "      <td>South</td>\n",
       "      <td>Regular customer</td>\n",
       "      <td>19935</td>\n",
       "    </tr>\n",
       "    <tr>\n",
       "      <th>9</th>\n",
       "      <td>West</td>\n",
       "      <td>Frequent customer</td>\n",
       "      <td>22179</td>\n",
       "    </tr>\n",
       "    <tr>\n",
       "      <th>10</th>\n",
       "      <td>West</td>\n",
       "      <td>Non-frequent customer</td>\n",
       "      <td>15178</td>\n",
       "    </tr>\n",
       "    <tr>\n",
       "      <th>11</th>\n",
       "      <td>West</td>\n",
       "      <td>Regular customer</td>\n",
       "      <td>15208</td>\n",
       "    </tr>\n",
       "  </tbody>\n",
       "</table>\n",
       "</div>"
      ],
      "text/plain": [
       "       region    frequency_cust_type  user_id\n",
       "0     Midwest      Frequent customer    20278\n",
       "1     Midwest  Non-frequent customer    14063\n",
       "2     Midwest       Regular customer    14178\n",
       "3   Northeast      Frequent customer    15272\n",
       "4   Northeast  Non-frequent customer    10444\n",
       "5   Northeast       Regular customer    10672\n",
       "6       South      Frequent customer    28867\n",
       "7       South  Non-frequent customer    19934\n",
       "8       South       Regular customer    19935\n",
       "9        West      Frequent customer    22179\n",
       "10       West  Non-frequent customer    15178\n",
       "11       West       Regular customer    15208"
      ]
     },
     "execution_count": 22,
     "metadata": {},
     "output_type": "execute_result"
    }
   ],
   "source": [
    "## Count unique users per region vs customer frequency\n",
    "region_reorder_cust_freq = df_ords_cust_clean.groupby(['region','frequency_cust_type'], as_index=False).agg({'user_id': 'nunique'})\n",
    "region_reorder_cust_freq"
   ]
  },
  {
   "cell_type": "code",
   "execution_count": 23,
   "id": "de401ef6",
   "metadata": {},
   "outputs": [
    {
     "name": "stderr",
     "output_type": "stream",
     "text": [
      "/Users/patel/anaconda3/lib/python3.11/site-packages/seaborn/axisgrid.py:118: UserWarning: The figure layout has changed to tight\n",
      "  self._figure.tight_layout(*args, **kwargs)\n"
     ]
    },
    {
     "data": {
      "text/plain": [
       "Text(0.5, 1.0, 'Regional Breakdown of Customer Frequency')"
      ]
     },
     "execution_count": 23,
     "metadata": {},
     "output_type": "execute_result"
    },
    {
     "data": {
      "image/png": "[encoded data removed]",
      "text/plain": [
       "<Figure size 811.625x600 with 1 Axes>"
      ]
     },
     "metadata": {},
     "output_type": "display_data"
    }
   ],
   "source": [
    "# Grouped bar chart to compare spender types in each region\n",
    "sns.set_theme()\n",
    "\n",
    "bar_region_frequency = sns.catplot(\n",
    "    data=region_reorder_cust_freq, kind=\"bar\",\n",
    "    x=\"region\", y=\"user_id\", hue=\"frequency_cust_type\", palette=\"husl\", alpha=.6, height=6\n",
    ")\n",
    "bar_region_frequency.despine(left=True)\n",
    "bar_region_frequency.set_axis_labels(\"regions\", \"number of customers\")\n",
    "bar_region_frequency.legend.set_title(\"\")\n",
    "plt.title(\"Regional Breakdown of Customer Frequency\")"
   ]
  },
  {
   "cell_type": "markdown",
   "id": "110132fd",
   "metadata": {},
   "source": [
    "### 3.5 Scatterplot : Income vs Mean Expenses vs Region"
   ]
  },
  {
   "cell_type": "code",
   "execution_count": 24,
   "id": "24c53ac2",
   "metadata": {},
   "outputs": [
    {
     "name": "stderr",
     "output_type": "stream",
     "text": [
      "/var/folders/6w/mdyngzzd2_z7brmk404qky_m0000gs/T/ipykernel_10963/606442029.py:2: SettingWithCopyWarning: \n",
      "A value is trying to be set on a copy of a slice from a DataFrame\n",
      "\n",
      "See the caveats in the documentation: https://pandas.pydata.org/pandas-docs/stable/user_guide/indexing.html#returning-a-view-versus-a-copy\n",
      "  region_mean_exp.drop_duplicates(inplace=True)\n"
     ]
    },
    {
     "data": {
      "text/html": [
       "<div>\n",
       "<style scoped>\n",
       "    .dataframe tbody tr th:only-of-type {\n",
       "        vertical-align: middle;\n",
       "    }\n",
       "\n",
       "    .dataframe tbody tr th {\n",
       "        vertical-align: top;\n",
       "    }\n",
       "\n",
       "    .dataframe thead th {\n",
       "        text-align: right;\n",
       "    }\n",
       "</style>\n",
       "<table border=\"1\" class=\"dataframe\">\n",
       "  <thead>\n",
       "    <tr style=\"text-align: right;\">\n",
       "      <th></th>\n",
       "      <th>user_id</th>\n",
       "      <th>region</th>\n",
       "      <th>income</th>\n",
       "      <th>mean_expenses</th>\n",
       "    </tr>\n",
       "  </thead>\n",
       "  <tbody>\n",
       "    <tr>\n",
       "      <th>0</th>\n",
       "      <td>1</td>\n",
       "      <td>South</td>\n",
       "      <td>40423</td>\n",
       "      <td>6.367796</td>\n",
       "    </tr>\n",
       "    <tr>\n",
       "      <th>59</th>\n",
       "      <td>10</td>\n",
       "      <td>South</td>\n",
       "      <td>52716</td>\n",
       "      <td>8.651049</td>\n",
       "    </tr>\n",
       "    <tr>\n",
       "      <th>202</th>\n",
       "      <td>100</td>\n",
       "      <td>South</td>\n",
       "      <td>138741</td>\n",
       "      <td>9.859260</td>\n",
       "    </tr>\n",
       "    <tr>\n",
       "      <th>229</th>\n",
       "      <td>1000</td>\n",
       "      <td>South</td>\n",
       "      <td>63581</td>\n",
       "      <td>8.407767</td>\n",
       "    </tr>\n",
       "    <tr>\n",
       "      <th>332</th>\n",
       "      <td>10000</td>\n",
       "      <td>South</td>\n",
       "      <td>61257</td>\n",
       "      <td>8.045422</td>\n",
       "    </tr>\n",
       "    <tr>\n",
       "      <th>...</th>\n",
       "      <td>...</td>\n",
       "      <td>...</td>\n",
       "      <td>...</td>\n",
       "      <td>...</td>\n",
       "    </tr>\n",
       "    <tr>\n",
       "      <th>32404295</th>\n",
       "      <td>99995</td>\n",
       "      <td>Midwest</td>\n",
       "      <td>92882</td>\n",
       "      <td>7.958000</td>\n",
       "    </tr>\n",
       "    <tr>\n",
       "      <th>32404345</th>\n",
       "      <td>99996</td>\n",
       "      <td>Midwest</td>\n",
       "      <td>107293</td>\n",
       "      <td>7.410937</td>\n",
       "    </tr>\n",
       "    <tr>\n",
       "      <th>32404473</th>\n",
       "      <td>99997</td>\n",
       "      <td>South</td>\n",
       "      <td>71271</td>\n",
       "      <td>7.958333</td>\n",
       "    </tr>\n",
       "    <tr>\n",
       "      <th>32404509</th>\n",
       "      <td>99998</td>\n",
       "      <td>Midwest</td>\n",
       "      <td>98951</td>\n",
       "      <td>9.052381</td>\n",
       "    </tr>\n",
       "    <tr>\n",
       "      <th>32404530</th>\n",
       "      <td>99999</td>\n",
       "      <td>Northeast</td>\n",
       "      <td>55497</td>\n",
       "      <td>7.289969</td>\n",
       "    </tr>\n",
       "  </tbody>\n",
       "</table>\n",
       "<p>206209 rows × 4 columns</p>\n",
       "</div>"
      ],
      "text/plain": [
       "         user_id     region  income  mean_expenses\n",
       "0              1      South   40423       6.367796\n",
       "59            10      South   52716       8.651049\n",
       "202          100      South  138741       9.859260\n",
       "229         1000      South   63581       8.407767\n",
       "332        10000      South   61257       8.045422\n",
       "...          ...        ...     ...            ...\n",
       "32404295   99995    Midwest   92882       7.958000\n",
       "32404345   99996    Midwest  107293       7.410937\n",
       "32404473   99997      South   71271       7.958333\n",
       "32404509   99998    Midwest   98951       9.052381\n",
       "32404530   99999  Northeast   55497       7.289969\n",
       "\n",
       "[206209 rows x 4 columns]"
      ]
     },
     "execution_count": 24,
     "metadata": {},
     "output_type": "execute_result"
    }
   ],
   "source": [
    "region_mean_exp = df_ords_cust_clean[['user_id', 'region', 'income', 'mean_expenses']]\n",
    "region_mean_exp.drop_duplicates(inplace=True)\n",
    "region_mean_exp"
   ]
  },
  {
   "cell_type": "code",
   "execution_count": 25,
   "id": "c1469e2a",
   "metadata": {},
   "outputs": [
    {
     "data": {
      "image/png": "[encoded data removed]",
      "text/plain": [
       "<Figure size 640x480 with 1 Axes>"
      ]
     },
     "metadata": {},
     "output_type": "display_data"
    }
   ],
   "source": [
    "# scatterplot income vs mean expenses, region category by color\n",
    "scatter_region_expenses = sns.scatterplot(data=region_mean_exp, x=\"income\", y=\"mean_expenses\", \n",
    "                                          hue=\"region\", palette=\"husl\")"
   ]
  },
  {
   "cell_type": "markdown",
   "id": "70ca67c5",
   "metadata": {},
   "source": [
    "#### Observations:\n",
    "\n",
    "1. There is no relationship between region, income and mean expenses\n",
    "2. There is a higer distribution of expenses within customers with income less than 180,000"
   ]
  },
  {
   "cell_type": "markdown",
   "id": "b6bb4936",
   "metadata": {},
   "source": [
    "#### 3.5.1 Investigate Groups with High Mean_Expenses (more than 10)"
   ]
  },
  {
   "cell_type": "code",
   "execution_count": 26,
   "id": "32be4b70",
   "metadata": {},
   "outputs": [
    {
     "data": {
      "text/html": [
       "<div>\n",
       "<style scoped>\n",
       "    .dataframe tbody tr th:only-of-type {\n",
       "        vertical-align: middle;\n",
       "    }\n",
       "\n",
       "    .dataframe tbody tr th {\n",
       "        vertical-align: top;\n",
       "    }\n",
       "\n",
       "    .dataframe thead th {\n",
       "        text-align: right;\n",
       "    }\n",
       "</style>\n",
       "<table border=\"1\" class=\"dataframe\">\n",
       "  <thead>\n",
       "    <tr style=\"text-align: right;\">\n",
       "      <th></th>\n",
       "      <th>order_id</th>\n",
       "      <th>user_id</th>\n",
       "      <th>number_of_orders</th>\n",
       "      <th>orders_days_of_week</th>\n",
       "      <th>order_hour_of_day</th>\n",
       "      <th>days_since_prior_order</th>\n",
       "      <th>product_id</th>\n",
       "      <th>reordered</th>\n",
       "      <th>product_name</th>\n",
       "      <th>department_id</th>\n",
       "      <th>...</th>\n",
       "      <th>spender_type</th>\n",
       "      <th>median_days_prior_purchase</th>\n",
       "      <th>frequency_cust_type</th>\n",
       "      <th>gender</th>\n",
       "      <th>state</th>\n",
       "      <th>age</th>\n",
       "      <th>n_dependants</th>\n",
       "      <th>fam_status</th>\n",
       "      <th>income</th>\n",
       "      <th>region</th>\n",
       "    </tr>\n",
       "  </thead>\n",
       "  <tbody>\n",
       "    <tr>\n",
       "      <th>4175</th>\n",
       "      <td>1957404</td>\n",
       "      <td>100014</td>\n",
       "      <td>3</td>\n",
       "      <td>3</td>\n",
       "      <td>19</td>\n",
       "      <td>26.0</td>\n",
       "      <td>25890</td>\n",
       "      <td>1</td>\n",
       "      <td>Boneless Skinless Chicken Breasts</td>\n",
       "      <td>12</td>\n",
       "      <td>...</td>\n",
       "      <td>High spender</td>\n",
       "      <td>10.0</td>\n",
       "      <td>Frequent customer</td>\n",
       "      <td>Male</td>\n",
       "      <td>Arizona</td>\n",
       "      <td>37</td>\n",
       "      <td>1</td>\n",
       "      <td>married</td>\n",
       "      <td>83132</td>\n",
       "      <td>West</td>\n",
       "    </tr>\n",
       "    <tr>\n",
       "      <th>4176</th>\n",
       "      <td>2035935</td>\n",
       "      <td>100014</td>\n",
       "      <td>1</td>\n",
       "      <td>2</td>\n",
       "      <td>18</td>\n",
       "      <td>NaN</td>\n",
       "      <td>2855</td>\n",
       "      <td>0</td>\n",
       "      <td>Organic Good Seed Bread</td>\n",
       "      <td>3</td>\n",
       "      <td>...</td>\n",
       "      <td>High spender</td>\n",
       "      <td>10.0</td>\n",
       "      <td>Frequent customer</td>\n",
       "      <td>Male</td>\n",
       "      <td>Arizona</td>\n",
       "      <td>37</td>\n",
       "      <td>1</td>\n",
       "      <td>married</td>\n",
       "      <td>83132</td>\n",
       "      <td>West</td>\n",
       "    </tr>\n",
       "    <tr>\n",
       "      <th>4177</th>\n",
       "      <td>2035935</td>\n",
       "      <td>100014</td>\n",
       "      <td>1</td>\n",
       "      <td>2</td>\n",
       "      <td>18</td>\n",
       "      <td>NaN</td>\n",
       "      <td>18465</td>\n",
       "      <td>0</td>\n",
       "      <td>Organic Grade A Free Range Large Brown Eggs</td>\n",
       "      <td>16</td>\n",
       "      <td>...</td>\n",
       "      <td>High spender</td>\n",
       "      <td>10.0</td>\n",
       "      <td>Frequent customer</td>\n",
       "      <td>Male</td>\n",
       "      <td>Arizona</td>\n",
       "      <td>37</td>\n",
       "      <td>1</td>\n",
       "      <td>married</td>\n",
       "      <td>83132</td>\n",
       "      <td>West</td>\n",
       "    </tr>\n",
       "    <tr>\n",
       "      <th>4178</th>\n",
       "      <td>2025474</td>\n",
       "      <td>100014</td>\n",
       "      <td>2</td>\n",
       "      <td>5</td>\n",
       "      <td>18</td>\n",
       "      <td>10.0</td>\n",
       "      <td>18465</td>\n",
       "      <td>1</td>\n",
       "      <td>Organic Grade A Free Range Large Brown Eggs</td>\n",
       "      <td>16</td>\n",
       "      <td>...</td>\n",
       "      <td>High spender</td>\n",
       "      <td>10.0</td>\n",
       "      <td>Frequent customer</td>\n",
       "      <td>Male</td>\n",
       "      <td>Arizona</td>\n",
       "      <td>37</td>\n",
       "      <td>1</td>\n",
       "      <td>married</td>\n",
       "      <td>83132</td>\n",
       "      <td>West</td>\n",
       "    </tr>\n",
       "    <tr>\n",
       "      <th>4179</th>\n",
       "      <td>1957404</td>\n",
       "      <td>100014</td>\n",
       "      <td>3</td>\n",
       "      <td>3</td>\n",
       "      <td>19</td>\n",
       "      <td>26.0</td>\n",
       "      <td>2855</td>\n",
       "      <td>1</td>\n",
       "      <td>Organic Good Seed Bread</td>\n",
       "      <td>3</td>\n",
       "      <td>...</td>\n",
       "      <td>High spender</td>\n",
       "      <td>10.0</td>\n",
       "      <td>Frequent customer</td>\n",
       "      <td>Male</td>\n",
       "      <td>Arizona</td>\n",
       "      <td>37</td>\n",
       "      <td>1</td>\n",
       "      <td>married</td>\n",
       "      <td>83132</td>\n",
       "      <td>West</td>\n",
       "    </tr>\n",
       "    <tr>\n",
       "      <th>...</th>\n",
       "      <td>...</td>\n",
       "      <td>...</td>\n",
       "      <td>...</td>\n",
       "      <td>...</td>\n",
       "      <td>...</td>\n",
       "      <td>...</td>\n",
       "      <td>...</td>\n",
       "      <td>...</td>\n",
       "      <td>...</td>\n",
       "      <td>...</td>\n",
       "      <td>...</td>\n",
       "      <td>...</td>\n",
       "      <td>...</td>\n",
       "      <td>...</td>\n",
       "      <td>...</td>\n",
       "      <td>...</td>\n",
       "      <td>...</td>\n",
       "      <td>...</td>\n",
       "      <td>...</td>\n",
       "      <td>...</td>\n",
       "      <td>...</td>\n",
       "    </tr>\n",
       "    <tr>\n",
       "      <th>32403377</th>\n",
       "      <td>488363</td>\n",
       "      <td>99988</td>\n",
       "      <td>5</td>\n",
       "      <td>6</td>\n",
       "      <td>9</td>\n",
       "      <td>30.0</td>\n",
       "      <td>46149</td>\n",
       "      <td>1</td>\n",
       "      <td>Zero Calorie Cola</td>\n",
       "      <td>7</td>\n",
       "      <td>...</td>\n",
       "      <td>High spender</td>\n",
       "      <td>22.0</td>\n",
       "      <td>Non-frequent customer</td>\n",
       "      <td>Female</td>\n",
       "      <td>North Carolina</td>\n",
       "      <td>45</td>\n",
       "      <td>0</td>\n",
       "      <td>single</td>\n",
       "      <td>165397</td>\n",
       "      <td>South</td>\n",
       "    </tr>\n",
       "    <tr>\n",
       "      <th>32403378</th>\n",
       "      <td>488363</td>\n",
       "      <td>99988</td>\n",
       "      <td>5</td>\n",
       "      <td>6</td>\n",
       "      <td>9</td>\n",
       "      <td>30.0</td>\n",
       "      <td>21386</td>\n",
       "      <td>1</td>\n",
       "      <td>Smartwater</td>\n",
       "      <td>7</td>\n",
       "      <td>...</td>\n",
       "      <td>High spender</td>\n",
       "      <td>22.0</td>\n",
       "      <td>Non-frequent customer</td>\n",
       "      <td>Female</td>\n",
       "      <td>North Carolina</td>\n",
       "      <td>45</td>\n",
       "      <td>0</td>\n",
       "      <td>single</td>\n",
       "      <td>165397</td>\n",
       "      <td>South</td>\n",
       "    </tr>\n",
       "    <tr>\n",
       "      <th>32403379</th>\n",
       "      <td>251255</td>\n",
       "      <td>99988</td>\n",
       "      <td>4</td>\n",
       "      <td>2</td>\n",
       "      <td>12</td>\n",
       "      <td>15.0</td>\n",
       "      <td>46149</td>\n",
       "      <td>1</td>\n",
       "      <td>Zero Calorie Cola</td>\n",
       "      <td>7</td>\n",
       "      <td>...</td>\n",
       "      <td>High spender</td>\n",
       "      <td>22.0</td>\n",
       "      <td>Non-frequent customer</td>\n",
       "      <td>Female</td>\n",
       "      <td>North Carolina</td>\n",
       "      <td>45</td>\n",
       "      <td>0</td>\n",
       "      <td>single</td>\n",
       "      <td>165397</td>\n",
       "      <td>South</td>\n",
       "    </tr>\n",
       "    <tr>\n",
       "      <th>32403380</th>\n",
       "      <td>1044470</td>\n",
       "      <td>99988</td>\n",
       "      <td>6</td>\n",
       "      <td>5</td>\n",
       "      <td>15</td>\n",
       "      <td>20.0</td>\n",
       "      <td>21386</td>\n",
       "      <td>1</td>\n",
       "      <td>Smartwater</td>\n",
       "      <td>7</td>\n",
       "      <td>...</td>\n",
       "      <td>High spender</td>\n",
       "      <td>22.0</td>\n",
       "      <td>Non-frequent customer</td>\n",
       "      <td>Female</td>\n",
       "      <td>North Carolina</td>\n",
       "      <td>45</td>\n",
       "      <td>0</td>\n",
       "      <td>single</td>\n",
       "      <td>165397</td>\n",
       "      <td>South</td>\n",
       "    </tr>\n",
       "    <tr>\n",
       "      <th>32403381</th>\n",
       "      <td>1684555</td>\n",
       "      <td>99988</td>\n",
       "      <td>7</td>\n",
       "      <td>6</td>\n",
       "      <td>9</td>\n",
       "      <td>30.0</td>\n",
       "      <td>6848</td>\n",
       "      <td>0</td>\n",
       "      <td>Party Tumblers</td>\n",
       "      <td>17</td>\n",
       "      <td>...</td>\n",
       "      <td>High spender</td>\n",
       "      <td>22.0</td>\n",
       "      <td>Non-frequent customer</td>\n",
       "      <td>Female</td>\n",
       "      <td>North Carolina</td>\n",
       "      <td>45</td>\n",
       "      <td>0</td>\n",
       "      <td>single</td>\n",
       "      <td>165397</td>\n",
       "      <td>South</td>\n",
       "    </tr>\n",
       "  </tbody>\n",
       "</table>\n",
       "<p>119728 rows × 28 columns</p>\n",
       "</div>"
      ],
      "text/plain": [
       "         order_id user_id  number_of_orders  orders_days_of_week  \\\n",
       "4175      1957404  100014                 3                    3   \n",
       "4176      2035935  100014                 1                    2   \n",
       "4177      2035935  100014                 1                    2   \n",
       "4178      2025474  100014                 2                    5   \n",
       "4179      1957404  100014                 3                    3   \n",
       "...           ...     ...               ...                  ...   \n",
       "32403377   488363   99988                 5                    6   \n",
       "32403378   488363   99988                 5                    6   \n",
       "32403379   251255   99988                 4                    2   \n",
       "32403380  1044470   99988                 6                    5   \n",
       "32403381  1684555   99988                 7                    6   \n",
       "\n",
       "          order_hour_of_day  days_since_prior_order product_id  reordered  \\\n",
       "4175                     19                    26.0      25890          1   \n",
       "4176                     18                     NaN       2855          0   \n",
       "4177                     18                     NaN      18465          0   \n",
       "4178                     18                    10.0      18465          1   \n",
       "4179                     19                    26.0       2855          1   \n",
       "...                     ...                     ...        ...        ...   \n",
       "32403377                  9                    30.0      46149          1   \n",
       "32403378                  9                    30.0      21386          1   \n",
       "32403379                 12                    15.0      46149          1   \n",
       "32403380                 15                    20.0      21386          1   \n",
       "32403381                  9                    30.0       6848          0   \n",
       "\n",
       "                                         product_name  department_id  ...  \\\n",
       "4175                Boneless Skinless Chicken Breasts             12  ...   \n",
       "4176                          Organic Good Seed Bread              3  ...   \n",
       "4177      Organic Grade A Free Range Large Brown Eggs             16  ...   \n",
       "4178      Organic Grade A Free Range Large Brown Eggs             16  ...   \n",
       "4179                          Organic Good Seed Bread              3  ...   \n",
       "...                                               ...            ...  ...   \n",
       "32403377                            Zero Calorie Cola              7  ...   \n",
       "32403378                                   Smartwater              7  ...   \n",
       "32403379                            Zero Calorie Cola              7  ...   \n",
       "32403380                                   Smartwater              7  ...   \n",
       "32403381                               Party Tumblers             17  ...   \n",
       "\n",
       "          spender_type median_days_prior_purchase    frequency_cust_type  \\\n",
       "4175      High spender                       10.0      Frequent customer   \n",
       "4176      High spender                       10.0      Frequent customer   \n",
       "4177      High spender                       10.0      Frequent customer   \n",
       "4178      High spender                       10.0      Frequent customer   \n",
       "4179      High spender                       10.0      Frequent customer   \n",
       "...                ...                        ...                    ...   \n",
       "32403377  High spender                       22.0  Non-frequent customer   \n",
       "32403378  High spender                       22.0  Non-frequent customer   \n",
       "32403379  High spender                       22.0  Non-frequent customer   \n",
       "32403380  High spender                       22.0  Non-frequent customer   \n",
       "32403381  High spender                       22.0  Non-frequent customer   \n",
       "\n",
       "          gender           state  age n_dependants  fam_status  income  region  \n",
       "4175        Male         Arizona   37            1     married   83132    West  \n",
       "4176        Male         Arizona   37            1     married   83132    West  \n",
       "4177        Male         Arizona   37            1     married   83132    West  \n",
       "4178        Male         Arizona   37            1     married   83132    West  \n",
       "4179        Male         Arizona   37            1     married   83132    West  \n",
       "...          ...             ...  ...          ...         ...     ...     ...  \n",
       "32403377  Female  North Carolina   45            0      single  165397   South  \n",
       "32403378  Female  North Carolina   45            0      single  165397   South  \n",
       "32403379  Female  North Carolina   45            0      single  165397   South  \n",
       "32403380  Female  North Carolina   45            0      single  165397   South  \n",
       "32403381  Female  North Carolina   45            0      single  165397   South  \n",
       "\n",
       "[119728 rows x 28 columns]"
      ]
     },
     "execution_count": 26,
     "metadata": {},
     "output_type": "execute_result"
    }
   ],
   "source": [
    "high_mean_expenses = df_ords_cust_clean.loc[df_ords_cust_clean['spender_type'] == 'High spender']\n",
    "high_mean_expenses"
   ]
  },
  {
   "cell_type": "code",
   "execution_count": 27,
   "id": "046dc8c2",
   "metadata": {},
   "outputs": [],
   "source": [
    "stats_highexp = high_mean_expenses.groupby('fam_status').agg({'user_id': pd.Series.nunique, \n",
    "                                            'income': ['min', 'max', 'mean', 'median']})"
   ]
  },
  {
   "cell_type": "code",
   "execution_count": 28,
   "id": "98e52f20",
   "metadata": {},
   "outputs": [],
   "source": [
    "stats_highexp = stats_highexp.reset_index()"
   ]
  },
  {
   "cell_type": "code",
   "execution_count": 29,
   "id": "e503ed19",
   "metadata": {},
   "outputs": [
    {
     "data": {
      "text/html": [
       "<div>\n",
       "<style scoped>\n",
       "    .dataframe tbody tr th:only-of-type {\n",
       "        vertical-align: middle;\n",
       "    }\n",
       "\n",
       "    .dataframe tbody tr th {\n",
       "        vertical-align: top;\n",
       "    }\n",
       "\n",
       "    .dataframe thead tr th {\n",
       "        text-align: left;\n",
       "    }\n",
       "</style>\n",
       "<table border=\"1\" class=\"dataframe\">\n",
       "  <thead>\n",
       "    <tr>\n",
       "      <th></th>\n",
       "      <th>fam_status</th>\n",
       "      <th>user_id</th>\n",
       "      <th colspan=\"4\" halign=\"left\">income</th>\n",
       "    </tr>\n",
       "    <tr>\n",
       "      <th></th>\n",
       "      <th></th>\n",
       "      <th>nunique</th>\n",
       "      <th>min</th>\n",
       "      <th>max</th>\n",
       "      <th>mean</th>\n",
       "      <th>median</th>\n",
       "    </tr>\n",
       "  </thead>\n",
       "  <tbody>\n",
       "    <tr>\n",
       "      <th>0</th>\n",
       "      <td>divorced/widowed</td>\n",
       "      <td>282</td>\n",
       "      <td>61577</td>\n",
       "      <td>430161</td>\n",
       "      <td>125755.105482</td>\n",
       "      <td>121446.0</td>\n",
       "    </tr>\n",
       "    <tr>\n",
       "      <th>1</th>\n",
       "      <td>living with parents and siblings</td>\n",
       "      <td>163</td>\n",
       "      <td>42294</td>\n",
       "      <td>101149</td>\n",
       "      <td>72514.336844</td>\n",
       "      <td>73655.0</td>\n",
       "    </tr>\n",
       "    <tr>\n",
       "      <th>2</th>\n",
       "      <td>married</td>\n",
       "      <td>2327</td>\n",
       "      <td>41746</td>\n",
       "      <td>220987</td>\n",
       "      <td>107150.741129</td>\n",
       "      <td>103702.0</td>\n",
       "    </tr>\n",
       "    <tr>\n",
       "      <th>3</th>\n",
       "      <td>single</td>\n",
       "      <td>617</td>\n",
       "      <td>41933</td>\n",
       "      <td>241645</td>\n",
       "      <td>102235.049067</td>\n",
       "      <td>96705.0</td>\n",
       "    </tr>\n",
       "  </tbody>\n",
       "</table>\n",
       "</div>"
      ],
      "text/plain": [
       "                         fam_status user_id income                         \\\n",
       "                                    nunique    min     max           mean   \n",
       "0                  divorced/widowed     282  61577  430161  125755.105482   \n",
       "1  living with parents and siblings     163  42294  101149   72514.336844   \n",
       "2                           married    2327  41746  220987  107150.741129   \n",
       "3                            single     617  41933  241645  102235.049067   \n",
       "\n",
       "             \n",
       "     median  \n",
       "0  121446.0  \n",
       "1   73655.0  \n",
       "2  103702.0  \n",
       "3   96705.0  "
      ]
     },
     "execution_count": 29,
     "metadata": {},
     "output_type": "execute_result"
    }
   ],
   "source": [
    "stats_highexp"
   ]
  },
  {
   "cell_type": "markdown",
   "id": "1de93949",
   "metadata": {},
   "source": [
    "#### Observations\n",
    "\n",
    "1. Majority of high spenders are married that have max income of $220,987\n",
    "2. Smallest percentage of customers that are high spenders are living with parents and sibling"
   ]
  },
  {
   "cell_type": "markdown",
   "id": "f54c4699",
   "metadata": {},
   "source": [
    "### 3.6 Distribution of Customer Loyalty Types by Region"
   ]
  },
  {
   "cell_type": "code",
   "execution_count": 30,
   "id": "bb0a58db",
   "metadata": {},
   "outputs": [
    {
     "data": {
      "text/html": [
       "<div>\n",
       "<style scoped>\n",
       "    .dataframe tbody tr th:only-of-type {\n",
       "        vertical-align: middle;\n",
       "    }\n",
       "\n",
       "    .dataframe tbody tr th {\n",
       "        vertical-align: top;\n",
       "    }\n",
       "\n",
       "    .dataframe thead th {\n",
       "        text-align: right;\n",
       "    }\n",
       "</style>\n",
       "<table border=\"1\" class=\"dataframe\">\n",
       "  <thead>\n",
       "    <tr style=\"text-align: right;\">\n",
       "      <th></th>\n",
       "      <th>region</th>\n",
       "      <th>loyalty_flag</th>\n",
       "      <th>user_id</th>\n",
       "    </tr>\n",
       "  </thead>\n",
       "  <tbody>\n",
       "    <tr>\n",
       "      <th>0</th>\n",
       "      <td>Midwest</td>\n",
       "      <td>Loyal customer</td>\n",
       "      <td>3991</td>\n",
       "    </tr>\n",
       "    <tr>\n",
       "      <th>1</th>\n",
       "      <td>Midwest</td>\n",
       "      <td>New customer</td>\n",
       "      <td>26333</td>\n",
       "    </tr>\n",
       "    <tr>\n",
       "      <th>2</th>\n",
       "      <td>Midwest</td>\n",
       "      <td>Regular customer</td>\n",
       "      <td>18195</td>\n",
       "    </tr>\n",
       "    <tr>\n",
       "      <th>3</th>\n",
       "      <td>Northeast</td>\n",
       "      <td>Loyal customer</td>\n",
       "      <td>3027</td>\n",
       "    </tr>\n",
       "    <tr>\n",
       "      <th>4</th>\n",
       "      <td>Northeast</td>\n",
       "      <td>New customer</td>\n",
       "      <td>19869</td>\n",
       "    </tr>\n",
       "    <tr>\n",
       "      <th>5</th>\n",
       "      <td>Northeast</td>\n",
       "      <td>Regular customer</td>\n",
       "      <td>13492</td>\n",
       "    </tr>\n",
       "    <tr>\n",
       "      <th>6</th>\n",
       "      <td>South</td>\n",
       "      <td>Loyal customer</td>\n",
       "      <td>5637</td>\n",
       "    </tr>\n",
       "    <tr>\n",
       "      <th>7</th>\n",
       "      <td>South</td>\n",
       "      <td>New customer</td>\n",
       "      <td>37491</td>\n",
       "    </tr>\n",
       "    <tr>\n",
       "      <th>8</th>\n",
       "      <td>South</td>\n",
       "      <td>Regular customer</td>\n",
       "      <td>25609</td>\n",
       "    </tr>\n",
       "    <tr>\n",
       "      <th>9</th>\n",
       "      <td>West</td>\n",
       "      <td>Loyal customer</td>\n",
       "      <td>4362</td>\n",
       "    </tr>\n",
       "    <tr>\n",
       "      <th>10</th>\n",
       "      <td>West</td>\n",
       "      <td>New customer</td>\n",
       "      <td>28635</td>\n",
       "    </tr>\n",
       "    <tr>\n",
       "      <th>11</th>\n",
       "      <td>West</td>\n",
       "      <td>Regular customer</td>\n",
       "      <td>19568</td>\n",
       "    </tr>\n",
       "  </tbody>\n",
       "</table>\n",
       "</div>"
      ],
      "text/plain": [
       "       region      loyalty_flag  user_id\n",
       "0     Midwest    Loyal customer     3991\n",
       "1     Midwest      New customer    26333\n",
       "2     Midwest  Regular customer    18195\n",
       "3   Northeast    Loyal customer     3027\n",
       "4   Northeast      New customer    19869\n",
       "5   Northeast  Regular customer    13492\n",
       "6       South    Loyal customer     5637\n",
       "7       South      New customer    37491\n",
       "8       South  Regular customer    25609\n",
       "9        West    Loyal customer     4362\n",
       "10       West      New customer    28635\n",
       "11       West  Regular customer    19568"
      ]
     },
     "execution_count": 30,
     "metadata": {},
     "output_type": "execute_result"
    }
   ],
   "source": [
    "## Count unique users per fam_status\n",
    "region_loyalty = df_ords_cust_clean.groupby(['region','loyalty_flag'], as_index=False).agg({'user_id': 'nunique'})\n",
    "region_loyalty"
   ]
  },
  {
   "cell_type": "code",
   "execution_count": 31,
   "id": "c3fa1c98",
   "metadata": {},
   "outputs": [
    {
     "name": "stderr",
     "output_type": "stream",
     "text": [
      "/Users/patel/anaconda3/lib/python3.11/site-packages/seaborn/axisgrid.py:118: UserWarning: The figure layout has changed to tight\n",
      "  self._figure.tight_layout(*args, **kwargs)\n"
     ]
    },
    {
     "data": {
      "text/plain": [
       "Text(0.5, 1.0, 'Customers Types by Region')"
      ]
     },
     "execution_count": 31,
     "metadata": {},
     "output_type": "execute_result"
    },
    {
     "data": {
      "image/png": "[encoded data removed]",
      "text/plain": [
       "<Figure size 776.125x600 with 1 Axes>"
      ]
     },
     "metadata": {},
     "output_type": "display_data"
    }
   ],
   "source": [
    "# Grouped bar chart to compare spender types in each region\n",
    "sns.set_theme()\n",
    "\n",
    "bar_region_loyalty = sns.catplot(\n",
    "    data=region_loyalty, kind=\"bar\",\n",
    "    x=\"region\", y=\"user_id\", hue=\"loyalty_flag\", palette=\"husl\", alpha=.6, height=6\n",
    ")\n",
    "bar_region_loyalty.despine(left=True)\n",
    "bar_region_loyalty.set_axis_labels(\"Regions\", \"no. of customers\")\n",
    "bar_region_loyalty.legend.set_title(\"\")\n",
    "plt.title(\"Customers Types by Region\")"
   ]
  },
  {
   "cell_type": "markdown",
   "id": "cdddb4a3",
   "metadata": {},
   "source": [
    "#### Observations:\n",
    "\n",
    "1. As expected, significnat number of customers are based in southern states\n",
    "2. In all regions, higher proportion of customers are new\n",
    "3. Southern states have the most loyalty customers. "
   ]
  },
  {
   "cell_type": "code",
   "execution_count": 32,
   "id": "3837054c",
   "metadata": {},
   "outputs": [],
   "source": [
    "bar_region_loyalty.savefig(os.path.join(path, '04 Analysis/Visualizations/bar_region_loyalty.png'))"
   ]
  },
  {
   "cell_type": "markdown",
   "id": "2aaf6b6a",
   "metadata": {},
   "source": [
    "### 3.7  Gender Distribution in Regions"
   ]
  },
  {
   "cell_type": "code",
   "execution_count": 33,
   "id": "a29c4af4",
   "metadata": {},
   "outputs": [
    {
     "data": {
      "text/html": [
       "<div>\n",
       "<style scoped>\n",
       "    .dataframe tbody tr th:only-of-type {\n",
       "        vertical-align: middle;\n",
       "    }\n",
       "\n",
       "    .dataframe tbody tr th {\n",
       "        vertical-align: top;\n",
       "    }\n",
       "\n",
       "    .dataframe thead th {\n",
       "        text-align: right;\n",
       "    }\n",
       "</style>\n",
       "<table border=\"1\" class=\"dataframe\">\n",
       "  <thead>\n",
       "    <tr style=\"text-align: right;\">\n",
       "      <th></th>\n",
       "      <th>region</th>\n",
       "      <th>gender</th>\n",
       "      <th>user_id</th>\n",
       "    </tr>\n",
       "  </thead>\n",
       "  <tbody>\n",
       "    <tr>\n",
       "      <th>0</th>\n",
       "      <td>Midwest</td>\n",
       "      <td>Female</td>\n",
       "      <td>24182</td>\n",
       "    </tr>\n",
       "    <tr>\n",
       "      <th>1</th>\n",
       "      <td>Midwest</td>\n",
       "      <td>Male</td>\n",
       "      <td>24337</td>\n",
       "    </tr>\n",
       "    <tr>\n",
       "      <th>2</th>\n",
       "      <td>Northeast</td>\n",
       "      <td>Female</td>\n",
       "      <td>17766</td>\n",
       "    </tr>\n",
       "    <tr>\n",
       "      <th>3</th>\n",
       "      <td>Northeast</td>\n",
       "      <td>Male</td>\n",
       "      <td>18622</td>\n",
       "    </tr>\n",
       "    <tr>\n",
       "      <th>4</th>\n",
       "      <td>South</td>\n",
       "      <td>Female</td>\n",
       "      <td>34047</td>\n",
       "    </tr>\n",
       "    <tr>\n",
       "      <th>5</th>\n",
       "      <td>South</td>\n",
       "      <td>Male</td>\n",
       "      <td>34690</td>\n",
       "    </tr>\n",
       "    <tr>\n",
       "      <th>6</th>\n",
       "      <td>West</td>\n",
       "      <td>Female</td>\n",
       "      <td>26147</td>\n",
       "    </tr>\n",
       "    <tr>\n",
       "      <th>7</th>\n",
       "      <td>West</td>\n",
       "      <td>Male</td>\n",
       "      <td>26418</td>\n",
       "    </tr>\n",
       "  </tbody>\n",
       "</table>\n",
       "</div>"
      ],
      "text/plain": [
       "      region  gender  user_id\n",
       "0    Midwest  Female    24182\n",
       "1    Midwest    Male    24337\n",
       "2  Northeast  Female    17766\n",
       "3  Northeast    Male    18622\n",
       "4      South  Female    34047\n",
       "5      South    Male    34690\n",
       "6       West  Female    26147\n",
       "7       West    Male    26418"
      ]
     },
     "execution_count": 33,
     "metadata": {},
     "output_type": "execute_result"
    }
   ],
   "source": [
    "## Count unique users per fam_status\n",
    "region_gender = df_ords_cust_clean.groupby(['region','gender'], as_index=False).agg({'user_id': 'nunique'})\n",
    "region_gender "
   ]
  },
  {
   "cell_type": "code",
   "execution_count": 34,
   "id": "6fc3ed42",
   "metadata": {},
   "outputs": [
    {
     "name": "stderr",
     "output_type": "stream",
     "text": [
      "/Users/patel/anaconda3/lib/python3.11/site-packages/seaborn/axisgrid.py:118: UserWarning: The figure layout has changed to tight\n",
      "  self._figure.tight_layout(*args, **kwargs)\n"
     ]
    },
    {
     "data": {
      "text/plain": [
       "Text(0.5, 1.0, 'Gender Distribution by Region')"
      ]
     },
     "execution_count": 34,
     "metadata": {},
     "output_type": "execute_result"
    },
    {
     "data": {
      "image/png": "[encoded data removed]",
      "text/plain": [
       "<Figure size 706x600 with 1 Axes>"
      ]
     },
     "metadata": {},
     "output_type": "display_data"
    }
   ],
   "source": [
    "# Grouped bar chart to compare spender types in each region\n",
    "sns.set_theme()\n",
    "\n",
    "bar_region_gender = sns.catplot(\n",
    "    data=region_gender, kind=\"bar\",\n",
    "    x=\"region\", y=\"user_id\", hue=\"gender\", palette=\"husl\", alpha=.6, height=6\n",
    ")\n",
    "bar_region_gender.despine(left=True)\n",
    "bar_region_gender.set_axis_labels(\"Regions\", \"no. of customers\")\n",
    "bar_region_gender.legend.set_title(\"\")\n",
    "plt.title(\"Gender Distribution by Region\")"
   ]
  },
  {
   "cell_type": "markdown",
   "id": "807a5ea8",
   "metadata": {},
   "source": [
    "#### Observations\n",
    "\n",
    "1. Almost equal distribution of gender in all regions. Male customers is slightly more in all regions"
   ]
  },
  {
   "cell_type": "markdown",
   "id": "0911b60e",
   "metadata": {},
   "source": [
    "## 4. Exclude customers with low activity"
   ]
  },
  {
   "cell_type": "code",
   "execution_count": 35,
   "id": "fde0892a",
   "metadata": {},
   "outputs": [],
   "source": [
    "df_ords_cust_clean.loc[(df_ords_cust_clean['max_orders'] < 5), 'activity_type'] = \"Low activity\"\n",
    "df_ords_cust_clean.loc[(df_ords_cust_clean['max_orders'] >= 5), 'activity_type'] = \"High activity\""
   ]
  },
  {
   "cell_type": "code",
   "execution_count": 36,
   "id": "c3ca49c3",
   "metadata": {},
   "outputs": [
    {
     "data": {
      "text/plain": [
       "High activity    30964564\n",
       "Low activity      1440295\n",
       "Name: activity_type, dtype: int64"
      ]
     },
     "execution_count": 36,
     "metadata": {},
     "output_type": "execute_result"
    }
   ],
   "source": [
    "df_ords_cust_clean['activity_type'].value_counts(dropna=False)"
   ]
  },
  {
   "cell_type": "code",
   "execution_count": 37,
   "id": "fab2f0da",
   "metadata": {},
   "outputs": [],
   "source": [
    "df_high_active_cust = df_ords_cust_clean.loc[(df_ords_cust_clean['activity_type'] == \"High activity\")]"
   ]
  },
  {
   "cell_type": "code",
   "execution_count": 38,
   "id": "869ccad3",
   "metadata": {},
   "outputs": [],
   "source": [
    "df_high_active_cust.to_pickle(os.path.join(path, '02 Data/Prepared Data/high_active_cust.pkl'))"
   ]
  },
  {
   "cell_type": "markdown",
   "id": "3e6dff69",
   "metadata": {},
   "source": [
    "## 5. Export Ords Prod Dataframe"
   ]
  },
  {
   "cell_type": "code",
   "execution_count": 39,
   "id": "56f1a581",
   "metadata": {},
   "outputs": [],
   "source": [
    "df_ords_cust_clean.to_pickle(os.path.join(path, '02 Data/Prepared Data/ords_prod_cust_without_pii.pkl'))"
   ]
  }
 ],
 "metadata": {
  "kernelspec": {
   "display_name": "Python 3 (ipykernel)",
   "language": "python",
   "name": "python3"
  },
  "language_info": {
   "codemirror_mode": {
    "name": "ipython",
    "version": 3
   },
   "file_extension": ".py",
   "mimetype": "text/x-python",
   "name": "python",
   "nbconvert_exporter": "python",
   "pygments_lexer": "ipython3",
   "version": "3.11.5"
  }
 },
 "nbformat": 4,
 "nbformat_minor": 5
}
