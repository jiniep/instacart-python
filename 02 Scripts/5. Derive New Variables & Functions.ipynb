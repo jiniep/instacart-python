{
 "cells": [
  {
   "cell_type": "markdown",
   "id": "882dd3ff",
   "metadata": {},
   "source": [
    "# Derive New Variables & Functions"
   ]
  },
  {
   "cell_type": "code",
   "execution_count": 1,
   "id": "befabee1",
   "metadata": {},
   "outputs": [],
   "source": [
    "# import libraries\n",
    "\n",
    "import pandas as pd\n",
    "import numpy as np\n",
    "import os"
   ]
  },
  {
   "cell_type": "markdown",
   "id": "2375c2b3",
   "metadata": {},
   "source": [
    "## Import Files"
   ]
  },
  {
   "cell_type": "code",
   "execution_count": 2,
   "id": "b4e264bf",
   "metadata": {},
   "outputs": [
    {
     "data": {
      "text/html": [
       "<div>\n",
       "<style scoped>\n",
       "    .dataframe tbody tr th:only-of-type {\n",
       "        vertical-align: middle;\n",
       "    }\n",
       "\n",
       "    .dataframe tbody tr th {\n",
       "        vertical-align: top;\n",
       "    }\n",
       "\n",
       "    .dataframe thead th {\n",
       "        text-align: right;\n",
       "    }\n",
       "</style>\n",
       "<table border=\"1\" class=\"dataframe\">\n",
       "  <thead>\n",
       "    <tr style=\"text-align: right;\">\n",
       "      <th></th>\n",
       "      <th>order_id</th>\n",
       "      <th>user_id</th>\n",
       "      <th>number_of_orders</th>\n",
       "      <th>orders_days_of_week</th>\n",
       "      <th>order_hour_of_day</th>\n",
       "      <th>days_since_prior_order</th>\n",
       "      <th>product_id</th>\n",
       "      <th>add_to_cart_order</th>\n",
       "      <th>reordered</th>\n",
       "      <th>product_name</th>\n",
       "      <th>aisle_id</th>\n",
       "      <th>department_id</th>\n",
       "      <th>prices</th>\n",
       "      <th>_merge</th>\n",
       "    </tr>\n",
       "  </thead>\n",
       "  <tbody>\n",
       "    <tr>\n",
       "      <th>0</th>\n",
       "      <td>2539329</td>\n",
       "      <td>1</td>\n",
       "      <td>1</td>\n",
       "      <td>2</td>\n",
       "      <td>8</td>\n",
       "      <td>NaN</td>\n",
       "      <td>196</td>\n",
       "      <td>1</td>\n",
       "      <td>0</td>\n",
       "      <td>Soda</td>\n",
       "      <td>77</td>\n",
       "      <td>7</td>\n",
       "      <td>9.0</td>\n",
       "      <td>both</td>\n",
       "    </tr>\n",
       "    <tr>\n",
       "      <th>1</th>\n",
       "      <td>2398795</td>\n",
       "      <td>1</td>\n",
       "      <td>2</td>\n",
       "      <td>3</td>\n",
       "      <td>7</td>\n",
       "      <td>15.0</td>\n",
       "      <td>196</td>\n",
       "      <td>1</td>\n",
       "      <td>1</td>\n",
       "      <td>Soda</td>\n",
       "      <td>77</td>\n",
       "      <td>7</td>\n",
       "      <td>9.0</td>\n",
       "      <td>both</td>\n",
       "    </tr>\n",
       "    <tr>\n",
       "      <th>2</th>\n",
       "      <td>473747</td>\n",
       "      <td>1</td>\n",
       "      <td>3</td>\n",
       "      <td>3</td>\n",
       "      <td>12</td>\n",
       "      <td>21.0</td>\n",
       "      <td>196</td>\n",
       "      <td>1</td>\n",
       "      <td>1</td>\n",
       "      <td>Soda</td>\n",
       "      <td>77</td>\n",
       "      <td>7</td>\n",
       "      <td>9.0</td>\n",
       "      <td>both</td>\n",
       "    </tr>\n",
       "    <tr>\n",
       "      <th>3</th>\n",
       "      <td>2254736</td>\n",
       "      <td>1</td>\n",
       "      <td>4</td>\n",
       "      <td>4</td>\n",
       "      <td>7</td>\n",
       "      <td>29.0</td>\n",
       "      <td>196</td>\n",
       "      <td>1</td>\n",
       "      <td>1</td>\n",
       "      <td>Soda</td>\n",
       "      <td>77</td>\n",
       "      <td>7</td>\n",
       "      <td>9.0</td>\n",
       "      <td>both</td>\n",
       "    </tr>\n",
       "    <tr>\n",
       "      <th>4</th>\n",
       "      <td>431534</td>\n",
       "      <td>1</td>\n",
       "      <td>5</td>\n",
       "      <td>4</td>\n",
       "      <td>15</td>\n",
       "      <td>28.0</td>\n",
       "      <td>196</td>\n",
       "      <td>1</td>\n",
       "      <td>1</td>\n",
       "      <td>Soda</td>\n",
       "      <td>77</td>\n",
       "      <td>7</td>\n",
       "      <td>9.0</td>\n",
       "      <td>both</td>\n",
       "    </tr>\n",
       "  </tbody>\n",
       "</table>\n",
       "</div>"
      ],
      "text/plain": [
       "  order_id user_id  number_of_orders  orders_days_of_week  order_hour_of_day  \\\n",
       "0  2539329       1                 1                    2                  8   \n",
       "1  2398795       1                 2                    3                  7   \n",
       "2   473747       1                 3                    3                 12   \n",
       "3  2254736       1                 4                    4                  7   \n",
       "4   431534       1                 5                    4                 15   \n",
       "\n",
       "   days_since_prior_order product_id  add_to_cart_order  reordered  \\\n",
       "0                     NaN        196                  1          0   \n",
       "1                    15.0        196                  1          1   \n",
       "2                    21.0        196                  1          1   \n",
       "3                    29.0        196                  1          1   \n",
       "4                    28.0        196                  1          1   \n",
       "\n",
       "  product_name  aisle_id  department_id  prices _merge  \n",
       "0         Soda        77              7     9.0   both  \n",
       "1         Soda        77              7     9.0   both  \n",
       "2         Soda        77              7     9.0   both  \n",
       "3         Soda        77              7     9.0   both  \n",
       "4         Soda        77              7     9.0   both  "
      ]
     },
     "execution_count": 2,
     "metadata": {},
     "output_type": "execute_result"
    }
   ],
   "source": [
    "# import orders_prods_merged dataset\n",
    "path = r'/Users/patel/Documents/CF-Data Anaylst Course/Achievement-4/Instacart Basket Analysis-Oct 2023/02 Data/'\n",
    "df_ords_prod_merged = pd.read_pickle(os.path.join(path, 'Prepared Data/orders_products_merged.pkl'))\n",
    "\n",
    "df_ords_prod_merged.head()"
   ]
  },
  {
   "cell_type": "code",
   "execution_count": 3,
   "id": "338b1fa4",
   "metadata": {},
   "outputs": [
    {
     "data": {
      "text/plain": [
       "(32404859, 14)"
      ]
     },
     "execution_count": 3,
     "metadata": {},
     "output_type": "execute_result"
    }
   ],
   "source": [
    "df_ords_prod_merged.shape"
   ]
  },
  {
   "cell_type": "markdown",
   "id": "5e2cc6a3",
   "metadata": {},
   "source": [
    "## Subset of Dataset"
   ]
  },
  {
   "cell_type": "code",
   "execution_count": 4,
   "id": "ff8469e1",
   "metadata": {},
   "outputs": [
    {
     "data": {
      "text/plain": [
       "(1000000, 14)"
      ]
     },
     "execution_count": 4,
     "metadata": {},
     "output_type": "execute_result"
    }
   ],
   "source": [
    "# extracting first 1,000,000 rows\n",
    "\n",
    "df = df_ords_prod_merged[:1000000]\n",
    "df.shape"
   ]
  },
  {
   "cell_type": "markdown",
   "id": "a206cf79",
   "metadata": {},
   "source": [
    "### Define function and used apply to set price label"
   ]
  },
  {
   "cell_type": "code",
   "execution_count": 5,
   "id": "95bf2aac",
   "metadata": {},
   "outputs": [],
   "source": [
    "# define a function that sets returns price range\n",
    "\n",
    "def price_label (row):\n",
    "    if(row['prices'] <= 5):\n",
    "        return 'Low-Range Product'\n",
    "    elif (row['prices'] > 5 and row['prices'] <= 15):\n",
    "        return 'Mid-Range Product'\n",
    "    elif (row['prices'] > 15):\n",
    "        return 'High-Range';\n",
    "    else: \n",
    "        return 'Not enough data'"
   ]
  },
  {
   "cell_type": "code",
   "execution_count": 6,
   "id": "d1d32496",
   "metadata": {},
   "outputs": [
    {
     "name": "stderr",
     "output_type": "stream",
     "text": [
      "/var/folders/6w/mdyngzzd2_z7brmk404qky_m0000gs/T/ipykernel_20338/2848743372.py:1: SettingWithCopyWarning: \n",
      "A value is trying to be set on a copy of a slice from a DataFrame.\n",
      "Try using .loc[row_indexer,col_indexer] = value instead\n",
      "\n",
      "See the caveats in the documentation: https://pandas.pydata.org/pandas-docs/stable/user_guide/indexing.html#returning-a-view-versus-a-copy\n",
      "  df['price_range'] = df.apply(price_label, axis=1)\n"
     ]
    }
   ],
   "source": [
    "df['price_range'] = df.apply(price_label, axis=1)"
   ]
  },
  {
   "cell_type": "code",
   "execution_count": 7,
   "id": "f3d0fbfa",
   "metadata": {},
   "outputs": [
    {
     "data": {
      "text/plain": [
       "price_range\n",
       "Mid-Range Product    756450\n",
       "Low-Range Product    243550\n",
       "Name: count, dtype: int64"
      ]
     },
     "execution_count": 7,
     "metadata": {},
     "output_type": "execute_result"
    }
   ],
   "source": [
    "df.value_counts('price_range', dropna = False)"
   ]
  },
  {
   "cell_type": "markdown",
   "id": "72f35178",
   "metadata": {},
   "source": [
    "### Use loc function to set price label"
   ]
  },
  {
   "cell_type": "code",
   "execution_count": 8,
   "id": "ffb7c858",
   "metadata": {},
   "outputs": [
    {
     "name": "stderr",
     "output_type": "stream",
     "text": [
      "/var/folders/6w/mdyngzzd2_z7brmk404qky_m0000gs/T/ipykernel_20338/1169838859.py:1: SettingWithCopyWarning: \n",
      "A value is trying to be set on a copy of a slice from a DataFrame.\n",
      "Try using .loc[row_indexer,col_indexer] = value instead\n",
      "\n",
      "See the caveats in the documentation: https://pandas.pydata.org/pandas-docs/stable/user_guide/indexing.html#returning-a-view-versus-a-copy\n",
      "  df.loc[df['prices'] > 15, 'price_range_loc'] = 'High-range product'\n",
      "/var/folders/6w/mdyngzzd2_z7brmk404qky_m0000gs/T/ipykernel_20338/1169838859.py:1: FutureWarning: Setting an item of incompatible dtype is deprecated and will raise in a future error of pandas. Value 'High-range product' has dtype incompatible with float64, please explicitly cast to a compatible dtype first.\n",
      "  df.loc[df['prices'] > 15, 'price_range_loc'] = 'High-range product'\n"
     ]
    }
   ],
   "source": [
    "df.loc[df['prices'] > 15, 'price_range_loc'] = 'High-range product'"
   ]
  },
  {
   "cell_type": "code",
   "execution_count": 9,
   "id": "927e9d43",
   "metadata": {},
   "outputs": [],
   "source": [
    "df.loc[(df['prices'] <= 15) & (df['prices'] > 5), 'price_range_loc'] = 'Mid-range product'"
   ]
  },
  {
   "cell_type": "code",
   "execution_count": 10,
   "id": "3f866036",
   "metadata": {},
   "outputs": [],
   "source": [
    "df.loc[df['prices'] <= 5, 'price_range_loc'] = 'Low-range product'"
   ]
  },
  {
   "cell_type": "code",
   "execution_count": 11,
   "id": "7f5269a4",
   "metadata": {},
   "outputs": [
    {
     "data": {
      "text/plain": [
       "price_range_loc\n",
       "Mid-range product    756450\n",
       "Low-range product    243550\n",
       "Name: count, dtype: int64"
      ]
     },
     "execution_count": 11,
     "metadata": {},
     "output_type": "execute_result"
    }
   ],
   "source": [
    "df['price_range_loc'].value_counts(dropna=False)"
   ]
  },
  {
   "cell_type": "markdown",
   "id": "cab52193",
   "metadata": {},
   "source": [
    "### Applying loc function on df_ords_prod_merge"
   ]
  },
  {
   "cell_type": "code",
   "execution_count": 12,
   "id": "6826c035",
   "metadata": {},
   "outputs": [
    {
     "name": "stderr",
     "output_type": "stream",
     "text": [
      "/var/folders/6w/mdyngzzd2_z7brmk404qky_m0000gs/T/ipykernel_20338/91076386.py:1: FutureWarning: Setting an item of incompatible dtype is deprecated and will raise in a future error of pandas. Value 'High-range product' has dtype incompatible with float64, please explicitly cast to a compatible dtype first.\n",
      "  df_ords_prod_merged.loc[df_ords_prod_merged['prices'] > 15, 'price_range_loc'] = 'High-range product'\n"
     ]
    },
    {
     "data": {
      "text/plain": [
       "price_range_loc\n",
       "Mid-range product     21860860\n",
       "Low-range product     10126321\n",
       "High-range product      417678\n",
       "Name: count, dtype: int64"
      ]
     },
     "execution_count": 12,
     "metadata": {},
     "output_type": "execute_result"
    }
   ],
   "source": [
    "df_ords_prod_merged.loc[df_ords_prod_merged['prices'] > 15, 'price_range_loc'] = 'High-range product'\n",
    "df_ords_prod_merged.loc[(df_ords_prod_merged['prices'] <= 15) & (df_ords_prod_merged['prices'] > 5), 'price_range_loc'] = 'Mid-range product'\n",
    "df_ords_prod_merged.loc[df_ords_prod_merged['prices'] <= 5, 'price_range_loc'] = 'Low-range product'\n",
    "\n",
    "df_ords_prod_merged['price_range_loc'].value_counts(dropna=False)"
   ]
  },
  {
   "cell_type": "markdown",
   "id": "0866e394",
   "metadata": {},
   "source": [
    "### Define and set Busiest, Least and Regular days"
   ]
  },
  {
   "cell_type": "code",
   "execution_count": 13,
   "id": "e2f0e2e0",
   "metadata": {},
   "outputs": [
    {
     "data": {
      "text/plain": [
       "orders_days_of_week\n",
       "0    6204182\n",
       "1    5660230\n",
       "6    4496490\n",
       "2    4213830\n",
       "5    4205791\n",
       "3    3840534\n",
       "4    3783802\n",
       "Name: count, dtype: int64"
      ]
     },
     "execution_count": 13,
     "metadata": {},
     "output_type": "execute_result"
    }
   ],
   "source": [
    "# orders_days_of_week will be used to define busiest days\n",
    "df_ords_prod_merged['orders_days_of_week'].value_counts(dropna=False)"
   ]
  },
  {
   "cell_type": "code",
   "execution_count": 14,
   "id": "33e3a7dc",
   "metadata": {},
   "outputs": [],
   "source": [
    "results = []\n",
    "\n",
    "for order in df_ords_prod_merged['orders_days_of_week']:\n",
    "    if order == 0:\n",
    "        results.append(\"Busiest day\")\n",
    "    elif order == 4:\n",
    "        results.append(\"Least busy\")\n",
    "    else:\n",
    "        results.append(\"Regular busy\")"
   ]
  },
  {
   "cell_type": "code",
   "execution_count": 15,
   "id": "63a6c640",
   "metadata": {},
   "outputs": [],
   "source": [
    "df_ords_prod_merged['busiest_day'] = results"
   ]
  },
  {
   "cell_type": "code",
   "execution_count": 16,
   "id": "53f16a8a",
   "metadata": {},
   "outputs": [
    {
     "data": {
      "text/plain": [
       "busiest_day\n",
       "Regular busy    22416875\n",
       "Busiest day      6204182\n",
       "Least busy       3783802\n",
       "Name: count, dtype: int64"
      ]
     },
     "execution_count": 16,
     "metadata": {},
     "output_type": "execute_result"
    }
   ],
   "source": [
    "df_ords_prod_merged['busiest_day'].value_counts(dropna=False)"
   ]
  },
  {
   "cell_type": "code",
   "execution_count": 17,
   "id": "46ceca72",
   "metadata": {},
   "outputs": [
    {
     "data": {
      "text/html": [
       "<div>\n",
       "<style scoped>\n",
       "    .dataframe tbody tr th:only-of-type {\n",
       "        vertical-align: middle;\n",
       "    }\n",
       "\n",
       "    .dataframe tbody tr th {\n",
       "        vertical-align: top;\n",
       "    }\n",
       "\n",
       "    .dataframe thead th {\n",
       "        text-align: right;\n",
       "    }\n",
       "</style>\n",
       "<table border=\"1\" class=\"dataframe\">\n",
       "  <thead>\n",
       "    <tr style=\"text-align: right;\">\n",
       "      <th></th>\n",
       "      <th>order_id</th>\n",
       "      <th>user_id</th>\n",
       "      <th>number_of_orders</th>\n",
       "      <th>orders_days_of_week</th>\n",
       "      <th>order_hour_of_day</th>\n",
       "      <th>days_since_prior_order</th>\n",
       "      <th>product_id</th>\n",
       "      <th>add_to_cart_order</th>\n",
       "      <th>reordered</th>\n",
       "      <th>product_name</th>\n",
       "      <th>aisle_id</th>\n",
       "      <th>department_id</th>\n",
       "      <th>prices</th>\n",
       "      <th>_merge</th>\n",
       "      <th>price_range_loc</th>\n",
       "      <th>busiest_day</th>\n",
       "    </tr>\n",
       "  </thead>\n",
       "  <tbody>\n",
       "    <tr>\n",
       "      <th>0</th>\n",
       "      <td>2539329</td>\n",
       "      <td>1</td>\n",
       "      <td>1</td>\n",
       "      <td>2</td>\n",
       "      <td>8</td>\n",
       "      <td>NaN</td>\n",
       "      <td>196</td>\n",
       "      <td>1</td>\n",
       "      <td>0</td>\n",
       "      <td>Soda</td>\n",
       "      <td>77</td>\n",
       "      <td>7</td>\n",
       "      <td>9.0</td>\n",
       "      <td>both</td>\n",
       "      <td>Mid-range product</td>\n",
       "      <td>Regular busy</td>\n",
       "    </tr>\n",
       "    <tr>\n",
       "      <th>1</th>\n",
       "      <td>2398795</td>\n",
       "      <td>1</td>\n",
       "      <td>2</td>\n",
       "      <td>3</td>\n",
       "      <td>7</td>\n",
       "      <td>15.0</td>\n",
       "      <td>196</td>\n",
       "      <td>1</td>\n",
       "      <td>1</td>\n",
       "      <td>Soda</td>\n",
       "      <td>77</td>\n",
       "      <td>7</td>\n",
       "      <td>9.0</td>\n",
       "      <td>both</td>\n",
       "      <td>Mid-range product</td>\n",
       "      <td>Regular busy</td>\n",
       "    </tr>\n",
       "    <tr>\n",
       "      <th>2</th>\n",
       "      <td>473747</td>\n",
       "      <td>1</td>\n",
       "      <td>3</td>\n",
       "      <td>3</td>\n",
       "      <td>12</td>\n",
       "      <td>21.0</td>\n",
       "      <td>196</td>\n",
       "      <td>1</td>\n",
       "      <td>1</td>\n",
       "      <td>Soda</td>\n",
       "      <td>77</td>\n",
       "      <td>7</td>\n",
       "      <td>9.0</td>\n",
       "      <td>both</td>\n",
       "      <td>Mid-range product</td>\n",
       "      <td>Regular busy</td>\n",
       "    </tr>\n",
       "    <tr>\n",
       "      <th>3</th>\n",
       "      <td>2254736</td>\n",
       "      <td>1</td>\n",
       "      <td>4</td>\n",
       "      <td>4</td>\n",
       "      <td>7</td>\n",
       "      <td>29.0</td>\n",
       "      <td>196</td>\n",
       "      <td>1</td>\n",
       "      <td>1</td>\n",
       "      <td>Soda</td>\n",
       "      <td>77</td>\n",
       "      <td>7</td>\n",
       "      <td>9.0</td>\n",
       "      <td>both</td>\n",
       "      <td>Mid-range product</td>\n",
       "      <td>Least busy</td>\n",
       "    </tr>\n",
       "    <tr>\n",
       "      <th>4</th>\n",
       "      <td>431534</td>\n",
       "      <td>1</td>\n",
       "      <td>5</td>\n",
       "      <td>4</td>\n",
       "      <td>15</td>\n",
       "      <td>28.0</td>\n",
       "      <td>196</td>\n",
       "      <td>1</td>\n",
       "      <td>1</td>\n",
       "      <td>Soda</td>\n",
       "      <td>77</td>\n",
       "      <td>7</td>\n",
       "      <td>9.0</td>\n",
       "      <td>both</td>\n",
       "      <td>Mid-range product</td>\n",
       "      <td>Least busy</td>\n",
       "    </tr>\n",
       "  </tbody>\n",
       "</table>\n",
       "</div>"
      ],
      "text/plain": [
       "  order_id user_id  number_of_orders  orders_days_of_week  order_hour_of_day  \\\n",
       "0  2539329       1                 1                    2                  8   \n",
       "1  2398795       1                 2                    3                  7   \n",
       "2   473747       1                 3                    3                 12   \n",
       "3  2254736       1                 4                    4                  7   \n",
       "4   431534       1                 5                    4                 15   \n",
       "\n",
       "   days_since_prior_order product_id  add_to_cart_order  reordered  \\\n",
       "0                     NaN        196                  1          0   \n",
       "1                    15.0        196                  1          1   \n",
       "2                    21.0        196                  1          1   \n",
       "3                    29.0        196                  1          1   \n",
       "4                    28.0        196                  1          1   \n",
       "\n",
       "  product_name  aisle_id  department_id  prices _merge    price_range_loc  \\\n",
       "0         Soda        77              7     9.0   both  Mid-range product   \n",
       "1         Soda        77              7     9.0   both  Mid-range product   \n",
       "2         Soda        77              7     9.0   both  Mid-range product   \n",
       "3         Soda        77              7     9.0   both  Mid-range product   \n",
       "4         Soda        77              7     9.0   both  Mid-range product   \n",
       "\n",
       "    busiest_day  \n",
       "0  Regular busy  \n",
       "1  Regular busy  \n",
       "2  Regular busy  \n",
       "3    Least busy  \n",
       "4    Least busy  "
      ]
     },
     "execution_count": 17,
     "metadata": {},
     "output_type": "execute_result"
    }
   ],
   "source": [
    "df_ords_prod_merged.head()"
   ]
  },
  {
   "cell_type": "markdown",
   "id": "1118378f",
   "metadata": {},
   "source": [
    "## Busiest and Slowest days "
   ]
  },
  {
   "cell_type": "code",
   "execution_count": 18,
   "id": "197e0cf7",
   "metadata": {},
   "outputs": [],
   "source": [
    "# 0 & 1 busiest days\n",
    "# 3 & 4 slowest days\n",
    "\n",
    "results = []\n",
    "\n",
    "for value in df_ords_prod_merged['orders_days_of_week']:\n",
    "    if ((value == 0) | (value == 1)):\n",
    "        results.append(\"Busiest days\")\n",
    "    elif ((value == 3) | (value == 4)):\n",
    "        results.append(\"Slowest days\")\n",
    "    else:\n",
    "        results.append(\"Regular days\")\n",
    "\n",
    "df_ords_prod_merged['busy_slow_days'] = results"
   ]
  },
  {
   "cell_type": "markdown",
   "id": "ec76308f",
   "metadata": {},
   "source": [
    " ### Checking accuracy of busy_slow_days column"
   ]
  },
  {
   "cell_type": "code",
   "execution_count": 19,
   "id": "cb704d2c",
   "metadata": {},
   "outputs": [
    {
     "data": {
      "text/plain": [
       "busy_slow_days\n",
       "Regular days    12916111\n",
       "Busiest days    11864412\n",
       "Slowest days     7624336\n",
       "Name: count, dtype: int64"
      ]
     },
     "execution_count": 19,
     "metadata": {},
     "output_type": "execute_result"
    }
   ],
   "source": [
    "df_ords_prod_merged.value_counts('busy_slow_days')"
   ]
  },
  {
   "cell_type": "code",
   "execution_count": 20,
   "id": "c0131f34",
   "metadata": {},
   "outputs": [
    {
     "data": {
      "text/plain": [
       "orders_days_of_week  busy_slow_days\n",
       "0                    Busiest days      6204182\n",
       "1                    Busiest days      5660230\n",
       "6                    Regular days      4496490\n",
       "2                    Regular days      4213830\n",
       "5                    Regular days      4205791\n",
       "3                    Slowest days      3840534\n",
       "4                    Slowest days      3783802\n",
       "Name: count, dtype: int64"
      ]
     },
     "execution_count": 20,
     "metadata": {},
     "output_type": "execute_result"
    }
   ],
   "source": [
    "# counting values for pair orders_days_of_week and busy_slow_days to double check allocation of busy_slow_days values\n",
    "df_ords_prod_merged.value_counts(['orders_days_of_week', 'busy_slow_days'])\n"
   ]
  },
  {
   "cell_type": "markdown",
   "id": "d526603e",
   "metadata": {},
   "source": [
    "## Busiest hours"
   ]
  },
  {
   "cell_type": "markdown",
   "id": "dfee73a4",
   "metadata": {},
   "source": [
    "### Allocate most, average and fewer orders"
   ]
  },
  {
   "cell_type": "code",
   "execution_count": 21,
   "id": "cc241a1a",
   "metadata": {},
   "outputs": [
    {
     "data": {
      "text/plain": [
       "order_hour_of_day\n",
       "10    2761760\n",
       "11    2736140\n",
       "14    2689136\n",
       "15    2662144\n",
       "13    2660954\n",
       "12    2618532\n",
       "16    2535202\n",
       "9     2454203\n",
       "17    2087654\n",
       "8     1718118\n",
       "18    1636502\n",
       "19    1258305\n",
       "20     976156\n",
       "7      891054\n",
       "21     795637\n",
       "22     634225\n",
       "23     402316\n",
       "6      290493\n",
       "0      218769\n",
       "1      115700\n",
       "5       87961\n",
       "2       69375\n",
       "4       53242\n",
       "3       51281\n",
       "Name: count, dtype: int64"
      ]
     },
     "execution_count": 21,
     "metadata": {},
     "output_type": "execute_result"
    }
   ],
   "source": [
    "#check number of orders per frequecy\n",
    "df_ords_prod_merged['order_hour_of_day'].value_counts(dropna=False)"
   ]
  },
  {
   "cell_type": "code",
   "execution_count": 22,
   "id": "7bdcf93a",
   "metadata": {},
   "outputs": [
    {
     "data": {
      "text/html": [
       "<div>\n",
       "<style scoped>\n",
       "    .dataframe tbody tr th:only-of-type {\n",
       "        vertical-align: middle;\n",
       "    }\n",
       "\n",
       "    .dataframe tbody tr th {\n",
       "        vertical-align: top;\n",
       "    }\n",
       "\n",
       "    .dataframe thead th {\n",
       "        text-align: right;\n",
       "    }\n",
       "</style>\n",
       "<table border=\"1\" class=\"dataframe\">\n",
       "  <thead>\n",
       "    <tr style=\"text-align: right;\">\n",
       "      <th></th>\n",
       "      <th>order_id</th>\n",
       "      <th>user_id</th>\n",
       "      <th>number_of_orders</th>\n",
       "      <th>orders_days_of_week</th>\n",
       "      <th>order_hour_of_day</th>\n",
       "      <th>days_since_prior_order</th>\n",
       "      <th>product_id</th>\n",
       "      <th>add_to_cart_order</th>\n",
       "      <th>reordered</th>\n",
       "      <th>product_name</th>\n",
       "      <th>aisle_id</th>\n",
       "      <th>department_id</th>\n",
       "      <th>prices</th>\n",
       "      <th>_merge</th>\n",
       "      <th>price_range_loc</th>\n",
       "      <th>busiest_day</th>\n",
       "      <th>busy_slow_days</th>\n",
       "      <th>busiest_hours</th>\n",
       "    </tr>\n",
       "  </thead>\n",
       "  <tbody>\n",
       "    <tr>\n",
       "      <th>0</th>\n",
       "      <td>2539329</td>\n",
       "      <td>1</td>\n",
       "      <td>1</td>\n",
       "      <td>2</td>\n",
       "      <td>8</td>\n",
       "      <td>NaN</td>\n",
       "      <td>196</td>\n",
       "      <td>1</td>\n",
       "      <td>0</td>\n",
       "      <td>Soda</td>\n",
       "      <td>77</td>\n",
       "      <td>7</td>\n",
       "      <td>9.0</td>\n",
       "      <td>both</td>\n",
       "      <td>Mid-range product</td>\n",
       "      <td>Regular busy</td>\n",
       "      <td>Regular days</td>\n",
       "      <td>Average orders</td>\n",
       "    </tr>\n",
       "    <tr>\n",
       "      <th>1</th>\n",
       "      <td>2398795</td>\n",
       "      <td>1</td>\n",
       "      <td>2</td>\n",
       "      <td>3</td>\n",
       "      <td>7</td>\n",
       "      <td>15.0</td>\n",
       "      <td>196</td>\n",
       "      <td>1</td>\n",
       "      <td>1</td>\n",
       "      <td>Soda</td>\n",
       "      <td>77</td>\n",
       "      <td>7</td>\n",
       "      <td>9.0</td>\n",
       "      <td>both</td>\n",
       "      <td>Mid-range product</td>\n",
       "      <td>Regular busy</td>\n",
       "      <td>Slowest days</td>\n",
       "      <td>Average orders</td>\n",
       "    </tr>\n",
       "    <tr>\n",
       "      <th>2</th>\n",
       "      <td>473747</td>\n",
       "      <td>1</td>\n",
       "      <td>3</td>\n",
       "      <td>3</td>\n",
       "      <td>12</td>\n",
       "      <td>21.0</td>\n",
       "      <td>196</td>\n",
       "      <td>1</td>\n",
       "      <td>1</td>\n",
       "      <td>Soda</td>\n",
       "      <td>77</td>\n",
       "      <td>7</td>\n",
       "      <td>9.0</td>\n",
       "      <td>both</td>\n",
       "      <td>Mid-range product</td>\n",
       "      <td>Regular busy</td>\n",
       "      <td>Slowest days</td>\n",
       "      <td>Most orders</td>\n",
       "    </tr>\n",
       "    <tr>\n",
       "      <th>3</th>\n",
       "      <td>2254736</td>\n",
       "      <td>1</td>\n",
       "      <td>4</td>\n",
       "      <td>4</td>\n",
       "      <td>7</td>\n",
       "      <td>29.0</td>\n",
       "      <td>196</td>\n",
       "      <td>1</td>\n",
       "      <td>1</td>\n",
       "      <td>Soda</td>\n",
       "      <td>77</td>\n",
       "      <td>7</td>\n",
       "      <td>9.0</td>\n",
       "      <td>both</td>\n",
       "      <td>Mid-range product</td>\n",
       "      <td>Least busy</td>\n",
       "      <td>Slowest days</td>\n",
       "      <td>Average orders</td>\n",
       "    </tr>\n",
       "    <tr>\n",
       "      <th>4</th>\n",
       "      <td>431534</td>\n",
       "      <td>1</td>\n",
       "      <td>5</td>\n",
       "      <td>4</td>\n",
       "      <td>15</td>\n",
       "      <td>28.0</td>\n",
       "      <td>196</td>\n",
       "      <td>1</td>\n",
       "      <td>1</td>\n",
       "      <td>Soda</td>\n",
       "      <td>77</td>\n",
       "      <td>7</td>\n",
       "      <td>9.0</td>\n",
       "      <td>both</td>\n",
       "      <td>Mid-range product</td>\n",
       "      <td>Least busy</td>\n",
       "      <td>Slowest days</td>\n",
       "      <td>Most orders</td>\n",
       "    </tr>\n",
       "  </tbody>\n",
       "</table>\n",
       "</div>"
      ],
      "text/plain": [
       "  order_id user_id  number_of_orders  orders_days_of_week  order_hour_of_day  \\\n",
       "0  2539329       1                 1                    2                  8   \n",
       "1  2398795       1                 2                    3                  7   \n",
       "2   473747       1                 3                    3                 12   \n",
       "3  2254736       1                 4                    4                  7   \n",
       "4   431534       1                 5                    4                 15   \n",
       "\n",
       "   days_since_prior_order product_id  add_to_cart_order  reordered  \\\n",
       "0                     NaN        196                  1          0   \n",
       "1                    15.0        196                  1          1   \n",
       "2                    21.0        196                  1          1   \n",
       "3                    29.0        196                  1          1   \n",
       "4                    28.0        196                  1          1   \n",
       "\n",
       "  product_name  aisle_id  department_id  prices _merge    price_range_loc  \\\n",
       "0         Soda        77              7     9.0   both  Mid-range product   \n",
       "1         Soda        77              7     9.0   both  Mid-range product   \n",
       "2         Soda        77              7     9.0   both  Mid-range product   \n",
       "3         Soda        77              7     9.0   both  Mid-range product   \n",
       "4         Soda        77              7     9.0   both  Mid-range product   \n",
       "\n",
       "    busiest_day busy_slow_days   busiest_hours  \n",
       "0  Regular busy   Regular days  Average orders  \n",
       "1  Regular busy   Slowest days  Average orders  \n",
       "2  Regular busy   Slowest days     Most orders  \n",
       "3    Least busy   Slowest days  Average orders  \n",
       "4    Least busy   Slowest days     Most orders  "
      ]
     },
     "execution_count": 22,
     "metadata": {},
     "output_type": "execute_result"
    }
   ],
   "source": [
    "#Fewest orders\t0,1,2,3,4,5,6\n",
    "#Average orders\t7,8,9,16,17,18,19,20,21,22,23\n",
    "# Most orders\t10,11,12,13,14,15\n",
    "\n",
    "results = []\n",
    "fewest_order_hours = [0,1,2,3,4,5]\n",
    "most_orders_hours = [10,11,12,13,14,15]\n",
    "\n",
    "for value in df_ords_prod_merged['order_hour_of_day']:\n",
    "    if (value in fewest_order_hours):\n",
    "        results.append(\"Fewest orders\")\n",
    "    elif(value in most_orders_hours):\n",
    "        results.append(\"Most orders\")\n",
    "    else:\n",
    "        results.append(\"Average orders\")\n",
    "\n",
    "df_ords_prod_merged['busiest_hours'] = results\n",
    "df_ords_prod_merged.head()"
   ]
  },
  {
   "cell_type": "markdown",
   "id": "2c157282",
   "metadata": {},
   "source": [
    "### Check Frequency of busiest hours"
   ]
  },
  {
   "cell_type": "code",
   "execution_count": 23,
   "id": "c98fed11",
   "metadata": {},
   "outputs": [
    {
     "data": {
      "text/plain": [
       "busiest_hours\n",
       "Most orders       16128666\n",
       "Average orders    15679865\n",
       "Fewest orders       596328\n",
       "Name: count, dtype: int64"
      ]
     },
     "execution_count": 23,
     "metadata": {},
     "output_type": "execute_result"
    }
   ],
   "source": [
    "df_ords_prod_merged['busiest_hours'].value_counts(dropna=False)"
   ]
  },
  {
   "cell_type": "code",
   "execution_count": 24,
   "id": "638f3056",
   "metadata": {},
   "outputs": [
    {
     "data": {
      "text/plain": [
       "order_hour_of_day  busiest_hours \n",
       "10                 Most orders       2761760\n",
       "11                 Most orders       2736140\n",
       "14                 Most orders       2689136\n",
       "15                 Most orders       2662144\n",
       "13                 Most orders       2660954\n",
       "12                 Most orders       2618532\n",
       "16                 Average orders    2535202\n",
       "9                  Average orders    2454203\n",
       "17                 Average orders    2087654\n",
       "8                  Average orders    1718118\n",
       "18                 Average orders    1636502\n",
       "19                 Average orders    1258305\n",
       "20                 Average orders     976156\n",
       "7                  Average orders     891054\n",
       "21                 Average orders     795637\n",
       "22                 Average orders     634225\n",
       "23                 Average orders     402316\n",
       "6                  Average orders     290493\n",
       "0                  Fewest orders      218769\n",
       "1                  Fewest orders      115700\n",
       "5                  Fewest orders       87961\n",
       "2                  Fewest orders       69375\n",
       "4                  Fewest orders       53242\n",
       "3                  Fewest orders       51281\n",
       "Name: count, dtype: int64"
      ]
     },
     "execution_count": 24,
     "metadata": {},
     "output_type": "execute_result"
    }
   ],
   "source": [
    "df_ords_prod_merged.value_counts(['order_hour_of_day','busiest_hours'])"
   ]
  },
  {
   "cell_type": "markdown",
   "id": "df039c8d",
   "metadata": {},
   "source": [
    "### Export to pkl file"
   ]
  },
  {
   "cell_type": "code",
   "execution_count": 25,
   "id": "2391aa50",
   "metadata": {},
   "outputs": [],
   "source": [
    "df_ords_prod_merged.to_pickle(os.path.join(path, 'Prepared Data/orders_product_merged_busy_dayshours.pkl'))"
   ]
  }
 ],
 "metadata": {
  "kernelspec": {
   "display_name": "Python 3 (ipykernel)",
   "language": "python",
   "name": "python3"
  },
  "language_info": {
   "codemirror_mode": {
    "name": "ipython",
    "version": 3
   },
   "file_extension": ".py",
   "mimetype": "text/x-python",
   "name": "python",
   "nbconvert_exporter": "python",
   "pygments_lexer": "ipython3",
   "version": "3.11.5"
  }
 },
 "nbformat": 4,
 "nbformat_minor": 5
}
