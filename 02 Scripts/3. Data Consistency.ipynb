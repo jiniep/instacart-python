{
 "cells": [
  {
   "cell_type": "markdown",
   "id": "ef147431",
   "metadata": {},
   "source": [
    "# Date Consistency Checks"
   ]
  },
  {
   "cell_type": "code",
   "execution_count": 2,
   "id": "297e7eb6",
   "metadata": {},
   "outputs": [],
   "source": [
    "# import libraries\n",
    "import pandas as pd\n",
    "import numpy as np\n",
    "import os"
   ]
  },
  {
   "cell_type": "markdown",
   "id": "5eff1d1d",
   "metadata": {},
   "source": [
    "## Products.csv"
   ]
  },
  {
   "cell_type": "markdown",
   "id": "a24ed499",
   "metadata": {},
   "source": [
    "### Import file"
   ]
  },
  {
   "cell_type": "code",
   "execution_count": 3,
   "id": "32e8f01f",
   "metadata": {},
   "outputs": [
    {
     "name": "stdout",
     "output_type": "stream",
     "text": [
      "<class 'pandas.core.frame.DataFrame'>\n",
      "RangeIndex: 49693 entries, 0 to 49692\n",
      "Data columns (total 5 columns):\n",
      " #   Column         Non-Null Count  Dtype  \n",
      "---  ------         --------------  -----  \n",
      " 0   product_id     49693 non-null  object \n",
      " 1   product_name   49677 non-null  object \n",
      " 2   aisle_id       49693 non-null  int16  \n",
      " 3   department_id  49693 non-null  int8   \n",
      " 4   prices         49693 non-null  float64\n",
      "dtypes: float64(1), int16(1), int8(1), object(2)\n",
      "memory usage: 1.3+ MB\n"
     ]
    }
   ],
   "source": [
    "# load product.csv\n",
    "\n",
    "path = r'/Users/patel/Documents/CF-Data Anaylst Course/Achievement-4/Instacart Basket Analysis-Oct 2023/02 Data/'\n",
    "dtypes = {'aisle_id': 'int16', 'department_id': 'int8'}\n",
    "df_prods = pd.read_csv(os.path.join(path, 'Orginal Data/4.3_orders_products/products.csv'), dtype=dtypes, index_col=False)\n",
    "\n",
    "#convert product_id to string\n",
    "\n",
    "df_prods['product_id'] = df_prods['product_id'].astype('str')\n",
    "\n",
    "df_prods.info()"
   ]
  },
  {
   "cell_type": "markdown",
   "id": "431aea55",
   "metadata": {},
   "source": [
    "### Missing Values"
   ]
  },
  {
   "cell_type": "code",
   "execution_count": 4,
   "id": "541d50fe",
   "metadata": {},
   "outputs": [
    {
     "data": {
      "text/plain": [
       "product_id        0\n",
       "product_name     16\n",
       "aisle_id          0\n",
       "department_id     0\n",
       "prices            0\n",
       "dtype: int64"
      ]
     },
     "execution_count": 4,
     "metadata": {},
     "output_type": "execute_result"
    }
   ],
   "source": [
    "# find columns with missing values\n",
    "df_prods.isnull().sum()"
   ]
  },
  {
   "cell_type": "markdown",
   "id": "1a3adb20",
   "metadata": {},
   "source": [
    "#### product_name -> 16 missing values ( 0.032%)"
   ]
  },
  {
   "cell_type": "code",
   "execution_count": 5,
   "id": "54fe5008",
   "metadata": {},
   "outputs": [
    {
     "data": {
      "text/html": [
       "<div>\n",
       "<style scoped>\n",
       "    .dataframe tbody tr th:only-of-type {\n",
       "        vertical-align: middle;\n",
       "    }\n",
       "\n",
       "    .dataframe tbody tr th {\n",
       "        vertical-align: top;\n",
       "    }\n",
       "\n",
       "    .dataframe thead th {\n",
       "        text-align: right;\n",
       "    }\n",
       "</style>\n",
       "<table border=\"1\" class=\"dataframe\">\n",
       "  <thead>\n",
       "    <tr style=\"text-align: right;\">\n",
       "      <th></th>\n",
       "      <th>product_id</th>\n",
       "      <th>product_name</th>\n",
       "      <th>aisle_id</th>\n",
       "      <th>department_id</th>\n",
       "      <th>prices</th>\n",
       "    </tr>\n",
       "  </thead>\n",
       "  <tbody>\n",
       "    <tr>\n",
       "      <th>33</th>\n",
       "      <td>34</td>\n",
       "      <td>NaN</td>\n",
       "      <td>121</td>\n",
       "      <td>14</td>\n",
       "      <td>12.2</td>\n",
       "    </tr>\n",
       "    <tr>\n",
       "      <th>68</th>\n",
       "      <td>69</td>\n",
       "      <td>NaN</td>\n",
       "      <td>26</td>\n",
       "      <td>7</td>\n",
       "      <td>11.8</td>\n",
       "    </tr>\n",
       "    <tr>\n",
       "      <th>115</th>\n",
       "      <td>116</td>\n",
       "      <td>NaN</td>\n",
       "      <td>93</td>\n",
       "      <td>3</td>\n",
       "      <td>10.8</td>\n",
       "    </tr>\n",
       "    <tr>\n",
       "      <th>261</th>\n",
       "      <td>262</td>\n",
       "      <td>NaN</td>\n",
       "      <td>110</td>\n",
       "      <td>13</td>\n",
       "      <td>12.1</td>\n",
       "    </tr>\n",
       "    <tr>\n",
       "      <th>525</th>\n",
       "      <td>525</td>\n",
       "      <td>NaN</td>\n",
       "      <td>109</td>\n",
       "      <td>11</td>\n",
       "      <td>1.2</td>\n",
       "    </tr>\n",
       "    <tr>\n",
       "      <th>1511</th>\n",
       "      <td>1511</td>\n",
       "      <td>NaN</td>\n",
       "      <td>84</td>\n",
       "      <td>16</td>\n",
       "      <td>14.3</td>\n",
       "    </tr>\n",
       "    <tr>\n",
       "      <th>1780</th>\n",
       "      <td>1780</td>\n",
       "      <td>NaN</td>\n",
       "      <td>126</td>\n",
       "      <td>11</td>\n",
       "      <td>12.3</td>\n",
       "    </tr>\n",
       "    <tr>\n",
       "      <th>2240</th>\n",
       "      <td>2240</td>\n",
       "      <td>NaN</td>\n",
       "      <td>52</td>\n",
       "      <td>1</td>\n",
       "      <td>14.2</td>\n",
       "    </tr>\n",
       "    <tr>\n",
       "      <th>2586</th>\n",
       "      <td>2586</td>\n",
       "      <td>NaN</td>\n",
       "      <td>104</td>\n",
       "      <td>13</td>\n",
       "      <td>12.4</td>\n",
       "    </tr>\n",
       "    <tr>\n",
       "      <th>3159</th>\n",
       "      <td>3159</td>\n",
       "      <td>NaN</td>\n",
       "      <td>126</td>\n",
       "      <td>11</td>\n",
       "      <td>13.1</td>\n",
       "    </tr>\n",
       "    <tr>\n",
       "      <th>3230</th>\n",
       "      <td>3230</td>\n",
       "      <td>NaN</td>\n",
       "      <td>120</td>\n",
       "      <td>16</td>\n",
       "      <td>14.4</td>\n",
       "    </tr>\n",
       "    <tr>\n",
       "      <th>3736</th>\n",
       "      <td>3736</td>\n",
       "      <td>NaN</td>\n",
       "      <td>41</td>\n",
       "      <td>8</td>\n",
       "      <td>14.8</td>\n",
       "    </tr>\n",
       "    <tr>\n",
       "      <th>4283</th>\n",
       "      <td>4283</td>\n",
       "      <td>NaN</td>\n",
       "      <td>77</td>\n",
       "      <td>7</td>\n",
       "      <td>14.4</td>\n",
       "    </tr>\n",
       "    <tr>\n",
       "      <th>4790</th>\n",
       "      <td>4790</td>\n",
       "      <td>NaN</td>\n",
       "      <td>91</td>\n",
       "      <td>16</td>\n",
       "      <td>14.5</td>\n",
       "    </tr>\n",
       "    <tr>\n",
       "      <th>38187</th>\n",
       "      <td>38183</td>\n",
       "      <td>NaN</td>\n",
       "      <td>39</td>\n",
       "      <td>12</td>\n",
       "      <td>20.9</td>\n",
       "    </tr>\n",
       "    <tr>\n",
       "      <th>40444</th>\n",
       "      <td>40440</td>\n",
       "      <td>NaN</td>\n",
       "      <td>120</td>\n",
       "      <td>16</td>\n",
       "      <td>14.8</td>\n",
       "    </tr>\n",
       "  </tbody>\n",
       "</table>\n",
       "</div>"
      ],
      "text/plain": [
       "      product_id product_name  aisle_id  department_id  prices\n",
       "33            34          NaN       121             14    12.2\n",
       "68            69          NaN        26              7    11.8\n",
       "115          116          NaN        93              3    10.8\n",
       "261          262          NaN       110             13    12.1\n",
       "525          525          NaN       109             11     1.2\n",
       "1511        1511          NaN        84             16    14.3\n",
       "1780        1780          NaN       126             11    12.3\n",
       "2240        2240          NaN        52              1    14.2\n",
       "2586        2586          NaN       104             13    12.4\n",
       "3159        3159          NaN       126             11    13.1\n",
       "3230        3230          NaN       120             16    14.4\n",
       "3736        3736          NaN        41              8    14.8\n",
       "4283        4283          NaN        77              7    14.4\n",
       "4790        4790          NaN        91             16    14.5\n",
       "38187      38183          NaN        39             12    20.9\n",
       "40444      40440          NaN       120             16    14.8"
      ]
     },
     "execution_count": 5,
     "metadata": {},
     "output_type": "execute_result"
    }
   ],
   "source": [
    "# find rows with missing product name\n",
    "\n",
    "df_na_prod_name = df_prods[df_prods['product_name'].isnull() == True]\n",
    "df_na_prod_name"
   ]
  },
  {
   "cell_type": "markdown",
   "id": "796f3e09",
   "metadata": {},
   "source": [
    "#### Create new dataframe without missing product name rows"
   ]
  },
  {
   "cell_type": "code",
   "execution_count": 6,
   "id": "b40e2c39",
   "metadata": {},
   "outputs": [
    {
     "data": {
      "text/plain": [
       "(49677, 5)"
      ]
     },
     "execution_count": 6,
     "metadata": {},
     "output_type": "execute_result"
    }
   ],
   "source": [
    "df_prods_clean = df_prods[df_prods['product_name'].isnull() == False]\n",
    "df_prods_clean.shape"
   ]
  },
  {
   "cell_type": "markdown",
   "id": "11558a0c",
   "metadata": {},
   "source": [
    "### Find and Manage Duplicates"
   ]
  },
  {
   "cell_type": "markdown",
   "id": "f663a1e7",
   "metadata": {},
   "source": [
    "#### Find duplicates in prods_clean"
   ]
  },
  {
   "cell_type": "code",
   "execution_count": 7,
   "id": "442163ab",
   "metadata": {
    "scrolled": true
   },
   "outputs": [
    {
     "data": {
      "text/html": [
       "<div>\n",
       "<style scoped>\n",
       "    .dataframe tbody tr th:only-of-type {\n",
       "        vertical-align: middle;\n",
       "    }\n",
       "\n",
       "    .dataframe tbody tr th {\n",
       "        vertical-align: top;\n",
       "    }\n",
       "\n",
       "    .dataframe thead th {\n",
       "        text-align: right;\n",
       "    }\n",
       "</style>\n",
       "<table border=\"1\" class=\"dataframe\">\n",
       "  <thead>\n",
       "    <tr style=\"text-align: right;\">\n",
       "      <th></th>\n",
       "      <th>product_id</th>\n",
       "      <th>product_name</th>\n",
       "      <th>aisle_id</th>\n",
       "      <th>department_id</th>\n",
       "      <th>prices</th>\n",
       "    </tr>\n",
       "  </thead>\n",
       "  <tbody>\n",
       "    <tr>\n",
       "      <th>462</th>\n",
       "      <td>462</td>\n",
       "      <td>Fiber 4g Gummy Dietary Supplement</td>\n",
       "      <td>70</td>\n",
       "      <td>11</td>\n",
       "      <td>4.8</td>\n",
       "    </tr>\n",
       "    <tr>\n",
       "      <th>18459</th>\n",
       "      <td>18458</td>\n",
       "      <td>Ranger IPA</td>\n",
       "      <td>27</td>\n",
       "      <td>5</td>\n",
       "      <td>9.2</td>\n",
       "    </tr>\n",
       "    <tr>\n",
       "      <th>26810</th>\n",
       "      <td>26808</td>\n",
       "      <td>Black House Coffee Roasty Stout Beer</td>\n",
       "      <td>27</td>\n",
       "      <td>5</td>\n",
       "      <td>13.4</td>\n",
       "    </tr>\n",
       "    <tr>\n",
       "      <th>35309</th>\n",
       "      <td>35306</td>\n",
       "      <td>Gluten Free Organic Peanut Butter &amp; Chocolate ...</td>\n",
       "      <td>121</td>\n",
       "      <td>14</td>\n",
       "      <td>6.8</td>\n",
       "    </tr>\n",
       "    <tr>\n",
       "      <th>35495</th>\n",
       "      <td>35491</td>\n",
       "      <td>Adore Forever Body Wash</td>\n",
       "      <td>127</td>\n",
       "      <td>11</td>\n",
       "      <td>9.9</td>\n",
       "    </tr>\n",
       "  </tbody>\n",
       "</table>\n",
       "</div>"
      ],
      "text/plain": [
       "      product_id                                       product_name  aisle_id  \\\n",
       "462          462                  Fiber 4g Gummy Dietary Supplement        70   \n",
       "18459      18458                                         Ranger IPA        27   \n",
       "26810      26808               Black House Coffee Roasty Stout Beer        27   \n",
       "35309      35306  Gluten Free Organic Peanut Butter & Chocolate ...       121   \n",
       "35495      35491                            Adore Forever Body Wash       127   \n",
       "\n",
       "       department_id  prices  \n",
       "462               11     4.8  \n",
       "18459              5     9.2  \n",
       "26810              5    13.4  \n",
       "35309             14     6.8  \n",
       "35495             11     9.9  "
      ]
     },
     "execution_count": 7,
     "metadata": {},
     "output_type": "execute_result"
    }
   ],
   "source": [
    "#find list of duplicated rows based on all column values - 5 rows\n",
    "df_dups = df_prods_clean[df_prods_clean.duplicated()]\n",
    "\n",
    "df_dups\n"
   ]
  },
  {
   "cell_type": "markdown",
   "id": "1e59f508",
   "metadata": {},
   "source": [
    "#### Remove duplicates from prods"
   ]
  },
  {
   "cell_type": "code",
   "execution_count": 8,
   "id": "e18fdae4",
   "metadata": {},
   "outputs": [
    {
     "data": {
      "text/plain": [
       "(49672, 5)"
      ]
     },
     "execution_count": 8,
     "metadata": {},
     "output_type": "execute_result"
    }
   ],
   "source": [
    "df_prods_clean_no_dups = df_prods_clean.drop_duplicates()\n",
    "df_prods_clean_no_dups.shape"
   ]
  },
  {
   "cell_type": "code",
   "execution_count": 9,
   "id": "6c3bddbf",
   "metadata": {},
   "outputs": [
    {
     "data": {
      "text/html": [
       "<div>\n",
       "<style scoped>\n",
       "    .dataframe tbody tr th:only-of-type {\n",
       "        vertical-align: middle;\n",
       "    }\n",
       "\n",
       "    .dataframe tbody tr th {\n",
       "        vertical-align: top;\n",
       "    }\n",
       "\n",
       "    .dataframe thead th {\n",
       "        text-align: right;\n",
       "    }\n",
       "</style>\n",
       "<table border=\"1\" class=\"dataframe\">\n",
       "  <thead>\n",
       "    <tr style=\"text-align: right;\">\n",
       "      <th></th>\n",
       "      <th>product_id</th>\n",
       "      <th>product_name</th>\n",
       "      <th>aisle_id</th>\n",
       "      <th>department_id</th>\n",
       "      <th>prices</th>\n",
       "    </tr>\n",
       "  </thead>\n",
       "  <tbody>\n",
       "    <tr>\n",
       "      <th>6799</th>\n",
       "      <td>6800</td>\n",
       "      <td>Revive Zero Vitamin Water</td>\n",
       "      <td>64</td>\n",
       "      <td>7</td>\n",
       "      <td>6.4</td>\n",
       "    </tr>\n",
       "    <tr>\n",
       "      <th>6800</th>\n",
       "      <td>6800</td>\n",
       "      <td>Sprouted Quinoa Flakes Baby Cereal</td>\n",
       "      <td>92</td>\n",
       "      <td>18</td>\n",
       "      <td>14.0</td>\n",
       "    </tr>\n",
       "    <tr>\n",
       "      <th>26520</th>\n",
       "      <td>26520</td>\n",
       "      <td>Clinical Advanced Solid Ultimate Fresh Anti-Pe...</td>\n",
       "      <td>80</td>\n",
       "      <td>11</td>\n",
       "      <td>10.6</td>\n",
       "    </tr>\n",
       "    <tr>\n",
       "      <th>26521</th>\n",
       "      <td>26520</td>\n",
       "      <td>Cheese Shredded Sharp Cheddar Reduced Fat 2%</td>\n",
       "      <td>21</td>\n",
       "      <td>16</td>\n",
       "      <td>2.9</td>\n",
       "    </tr>\n",
       "  </tbody>\n",
       "</table>\n",
       "</div>"
      ],
      "text/plain": [
       "      product_id                                       product_name  aisle_id  \\\n",
       "6799        6800                          Revive Zero Vitamin Water        64   \n",
       "6800        6800                 Sprouted Quinoa Flakes Baby Cereal        92   \n",
       "26520      26520  Clinical Advanced Solid Ultimate Fresh Anti-Pe...        80   \n",
       "26521      26520       Cheese Shredded Sharp Cheddar Reduced Fat 2%        21   \n",
       "\n",
       "       department_id  prices  \n",
       "6799               7     6.4  \n",
       "6800              18    14.0  \n",
       "26520             11    10.6  \n",
       "26521             16     2.9  "
      ]
     },
     "execution_count": 9,
     "metadata": {},
     "output_type": "execute_result"
    }
   ],
   "source": [
    "df_dups2 = df_prods_clean_no_dups[df_prods_clean_no_dups.duplicated(subset=['product_id'], keep=False)]\n",
    "df_dups2"
   ]
  },
  {
   "cell_type": "markdown",
   "id": "fd3e3355",
   "metadata": {},
   "source": [
    "### Export Cleaned Products DF to CSV"
   ]
  },
  {
   "cell_type": "code",
   "execution_count": 10,
   "id": "826eb636",
   "metadata": {},
   "outputs": [],
   "source": [
    "df_prods_clean_no_dups.to_csv(os.path.join(path, 'Prepared Data/products_checked.csv'))"
   ]
  },
  {
   "cell_type": "markdown",
   "id": "7055e114",
   "metadata": {},
   "source": [
    "## Wrangled Orders File"
   ]
  },
  {
   "cell_type": "markdown",
   "id": "4ad7786b",
   "metadata": {},
   "source": [
    "### Import wrangled orders file"
   ]
  },
  {
   "cell_type": "code",
   "execution_count": 11,
   "id": "00c23c58",
   "metadata": {},
   "outputs": [
    {
     "name": "stdout",
     "output_type": "stream",
     "text": [
      "<class 'pandas.core.frame.DataFrame'>\n",
      "Index: 3421083 entries, 0 to 3421082\n",
      "Data columns (total 6 columns):\n",
      " #   Column                  Dtype  \n",
      "---  ------                  -----  \n",
      " 0   order_id                object \n",
      " 1   user_id                 object \n",
      " 2   number_of_orders        int64  \n",
      " 3   orders_days_of_week     int64  \n",
      " 4   order_hour_of_day       int8   \n",
      " 5   days_since_prior_order  float32\n",
      "dtypes: float32(1), int64(2), int8(1), object(2)\n",
      "memory usage: 146.8+ MB\n"
     ]
    }
   ],
   "source": [
    "# To reduce memory, cast data types while importing file into dataframe\n",
    "dtypes = {'order_number': 'int8', 'order_dow': 'int8', 'order_hour_of_day': 'int8','days_since_prior_order': 'float32' }\n",
    "\n",
    "df_ords = pd.read_csv(os.path.join(path, 'Prepared Data/orders_wrangled.csv'), dtype=dtypes, index_col=0)\n",
    "\n",
    "df_ords['order_id'] = df_ords['order_id'].astype('str')\n",
    "df_ords['user_id'] = df_ords['user_id'].astype('str')\n",
    "df_ords.info()"
   ]
  },
  {
   "cell_type": "markdown",
   "id": "0ae745f6",
   "metadata": {},
   "source": [
    "### Check for irregularities "
   ]
  },
  {
   "cell_type": "code",
   "execution_count": 12,
   "id": "07c132ed",
   "metadata": {},
   "outputs": [
    {
     "data": {
      "text/html": [
       "<div>\n",
       "<style scoped>\n",
       "    .dataframe tbody tr th:only-of-type {\n",
       "        vertical-align: middle;\n",
       "    }\n",
       "\n",
       "    .dataframe tbody tr th {\n",
       "        vertical-align: top;\n",
       "    }\n",
       "\n",
       "    .dataframe thead th {\n",
       "        text-align: right;\n",
       "    }\n",
       "</style>\n",
       "<table border=\"1\" class=\"dataframe\">\n",
       "  <thead>\n",
       "    <tr style=\"text-align: right;\">\n",
       "      <th></th>\n",
       "      <th>number_of_orders</th>\n",
       "      <th>orders_days_of_week</th>\n",
       "      <th>order_hour_of_day</th>\n",
       "      <th>days_since_prior_order</th>\n",
       "    </tr>\n",
       "  </thead>\n",
       "  <tbody>\n",
       "    <tr>\n",
       "      <th>count</th>\n",
       "      <td>3.421083e+06</td>\n",
       "      <td>3.421083e+06</td>\n",
       "      <td>3.421083e+06</td>\n",
       "      <td>3.214874e+06</td>\n",
       "    </tr>\n",
       "    <tr>\n",
       "      <th>mean</th>\n",
       "      <td>1.715486e+01</td>\n",
       "      <td>2.776219e+00</td>\n",
       "      <td>1.345202e+01</td>\n",
       "      <td>1.111483e+01</td>\n",
       "    </tr>\n",
       "    <tr>\n",
       "      <th>std</th>\n",
       "      <td>1.773316e+01</td>\n",
       "      <td>2.046829e+00</td>\n",
       "      <td>4.226088e+00</td>\n",
       "      <td>9.161989e+00</td>\n",
       "    </tr>\n",
       "    <tr>\n",
       "      <th>min</th>\n",
       "      <td>1.000000e+00</td>\n",
       "      <td>0.000000e+00</td>\n",
       "      <td>0.000000e+00</td>\n",
       "      <td>0.000000e+00</td>\n",
       "    </tr>\n",
       "    <tr>\n",
       "      <th>25%</th>\n",
       "      <td>5.000000e+00</td>\n",
       "      <td>1.000000e+00</td>\n",
       "      <td>1.000000e+01</td>\n",
       "      <td>4.000000e+00</td>\n",
       "    </tr>\n",
       "    <tr>\n",
       "      <th>50%</th>\n",
       "      <td>1.100000e+01</td>\n",
       "      <td>3.000000e+00</td>\n",
       "      <td>1.300000e+01</td>\n",
       "      <td>7.000000e+00</td>\n",
       "    </tr>\n",
       "    <tr>\n",
       "      <th>75%</th>\n",
       "      <td>2.300000e+01</td>\n",
       "      <td>5.000000e+00</td>\n",
       "      <td>1.600000e+01</td>\n",
       "      <td>1.500000e+01</td>\n",
       "    </tr>\n",
       "    <tr>\n",
       "      <th>max</th>\n",
       "      <td>1.000000e+02</td>\n",
       "      <td>6.000000e+00</td>\n",
       "      <td>2.300000e+01</td>\n",
       "      <td>3.000000e+01</td>\n",
       "    </tr>\n",
       "  </tbody>\n",
       "</table>\n",
       "</div>"
      ],
      "text/plain": [
       "       number_of_orders  orders_days_of_week  order_hour_of_day  \\\n",
       "count      3.421083e+06         3.421083e+06       3.421083e+06   \n",
       "mean       1.715486e+01         2.776219e+00       1.345202e+01   \n",
       "std        1.773316e+01         2.046829e+00       4.226088e+00   \n",
       "min        1.000000e+00         0.000000e+00       0.000000e+00   \n",
       "25%        5.000000e+00         1.000000e+00       1.000000e+01   \n",
       "50%        1.100000e+01         3.000000e+00       1.300000e+01   \n",
       "75%        2.300000e+01         5.000000e+00       1.600000e+01   \n",
       "max        1.000000e+02         6.000000e+00       2.300000e+01   \n",
       "\n",
       "       days_since_prior_order  \n",
       "count            3.214874e+06  \n",
       "mean             1.111483e+01  \n",
       "std              9.161989e+00  \n",
       "min              0.000000e+00  \n",
       "25%              4.000000e+00  \n",
       "50%              7.000000e+00  \n",
       "75%              1.500000e+01  \n",
       "max              3.000000e+01  "
      ]
     },
     "execution_count": 12,
     "metadata": {},
     "output_type": "execute_result"
    }
   ],
   "source": [
    "df_ords.describe()"
   ]
  },
  {
   "cell_type": "markdown",
   "id": "17d62184",
   "metadata": {},
   "source": [
    "#### Data Observations\n",
    "\n",
    "days_since_prior order:\n",
    "    1. Count of rows is less 206,209\n",
    "    2. Max is 30 days. Is the data obtained for orders in last 30 days?"
   ]
  },
  {
   "cell_type": "markdown",
   "id": "e2e7556a",
   "metadata": {},
   "source": [
    "### Check of mixed data types"
   ]
  },
  {
   "cell_type": "code",
   "execution_count": 13,
   "id": "905816c4",
   "metadata": {},
   "outputs": [],
   "source": [
    "#code to check for columns that have mixed data type\n",
    "for col in df_ords.columns.tolist():\n",
    "    weird = (df_ords[[col]].map(type) != df_ords[[col]].iloc[0].apply(type)).any(axis = 1)\n",
    "    \n",
    "    if len (df_ords[weird]) > 0:\n",
    "        print (col)"
   ]
  },
  {
   "cell_type": "markdown",
   "id": "37265519",
   "metadata": {},
   "source": [
    "no mixed datype column found"
   ]
  },
  {
   "cell_type": "markdown",
   "id": "a277b93d",
   "metadata": {},
   "source": [
    "### Check for Missing values"
   ]
  },
  {
   "cell_type": "code",
   "execution_count": 14,
   "id": "6fa8ad90",
   "metadata": {},
   "outputs": [
    {
     "data": {
      "text/plain": [
       "order_id                       0\n",
       "user_id                        0\n",
       "number_of_orders               0\n",
       "orders_days_of_week            0\n",
       "order_hour_of_day              0\n",
       "days_since_prior_order    206209\n",
       "dtype: int64"
      ]
     },
     "execution_count": 14,
     "metadata": {},
     "output_type": "execute_result"
    }
   ],
   "source": [
    "# find columns with missing values\n",
    "df_ords.isnull().sum()"
   ]
  },
  {
   "cell_type": "code",
   "execution_count": 15,
   "id": "2db9820b",
   "metadata": {},
   "outputs": [
    {
     "data": {
      "text/plain": [
       "number_of_orders\n",
       "1    206209\n",
       "Name: count, dtype: int64"
      ]
     },
     "execution_count": 15,
     "metadata": {},
     "output_type": "execute_result"
    }
   ],
   "source": [
    "# check missing values in days_since_prior_order\n",
    "\n",
    "df_days_since_missing = df_ords[df_ords['days_since_prior_order'].isnull()]\n",
    "df_days_since_missing.value_counts('number_of_orders')"
   ]
  },
  {
   "cell_type": "markdown",
   "id": "369baf99",
   "metadata": {},
   "source": [
    "#### 206,209 values missing in days_since_prior_order column"
   ]
  },
  {
   "cell_type": "code",
   "execution_count": 16,
   "id": "07f2446c",
   "metadata": {},
   "outputs": [
    {
     "data": {
      "text/html": [
       "<div>\n",
       "<style scoped>\n",
       "    .dataframe tbody tr th:only-of-type {\n",
       "        vertical-align: middle;\n",
       "    }\n",
       "\n",
       "    .dataframe tbody tr th {\n",
       "        vertical-align: top;\n",
       "    }\n",
       "\n",
       "    .dataframe thead th {\n",
       "        text-align: right;\n",
       "    }\n",
       "</style>\n",
       "<table border=\"1\" class=\"dataframe\">\n",
       "  <thead>\n",
       "    <tr style=\"text-align: right;\">\n",
       "      <th></th>\n",
       "      <th>order_id</th>\n",
       "      <th>user_id</th>\n",
       "      <th>number_of_orders</th>\n",
       "      <th>orders_days_of_week</th>\n",
       "      <th>order_hour_of_day</th>\n",
       "      <th>days_since_prior_order</th>\n",
       "    </tr>\n",
       "  </thead>\n",
       "  <tbody>\n",
       "    <tr>\n",
       "      <th>0</th>\n",
       "      <td>2539329</td>\n",
       "      <td>1</td>\n",
       "      <td>1</td>\n",
       "      <td>2</td>\n",
       "      <td>8</td>\n",
       "      <td>NaN</td>\n",
       "    </tr>\n",
       "    <tr>\n",
       "      <th>11</th>\n",
       "      <td>2168274</td>\n",
       "      <td>2</td>\n",
       "      <td>1</td>\n",
       "      <td>2</td>\n",
       "      <td>11</td>\n",
       "      <td>NaN</td>\n",
       "    </tr>\n",
       "    <tr>\n",
       "      <th>26</th>\n",
       "      <td>1374495</td>\n",
       "      <td>3</td>\n",
       "      <td>1</td>\n",
       "      <td>1</td>\n",
       "      <td>14</td>\n",
       "      <td>NaN</td>\n",
       "    </tr>\n",
       "    <tr>\n",
       "      <th>39</th>\n",
       "      <td>3343014</td>\n",
       "      <td>4</td>\n",
       "      <td>1</td>\n",
       "      <td>6</td>\n",
       "      <td>11</td>\n",
       "      <td>NaN</td>\n",
       "    </tr>\n",
       "    <tr>\n",
       "      <th>45</th>\n",
       "      <td>2717275</td>\n",
       "      <td>5</td>\n",
       "      <td>1</td>\n",
       "      <td>3</td>\n",
       "      <td>12</td>\n",
       "      <td>NaN</td>\n",
       "    </tr>\n",
       "    <tr>\n",
       "      <th>...</th>\n",
       "      <td>...</td>\n",
       "      <td>...</td>\n",
       "      <td>...</td>\n",
       "      <td>...</td>\n",
       "      <td>...</td>\n",
       "      <td>...</td>\n",
       "    </tr>\n",
       "    <tr>\n",
       "      <th>3420930</th>\n",
       "      <td>969311</td>\n",
       "      <td>206205</td>\n",
       "      <td>1</td>\n",
       "      <td>4</td>\n",
       "      <td>12</td>\n",
       "      <td>NaN</td>\n",
       "    </tr>\n",
       "    <tr>\n",
       "      <th>3420934</th>\n",
       "      <td>3189322</td>\n",
       "      <td>206206</td>\n",
       "      <td>1</td>\n",
       "      <td>3</td>\n",
       "      <td>18</td>\n",
       "      <td>NaN</td>\n",
       "    </tr>\n",
       "    <tr>\n",
       "      <th>3421002</th>\n",
       "      <td>2166133</td>\n",
       "      <td>206207</td>\n",
       "      <td>1</td>\n",
       "      <td>6</td>\n",
       "      <td>19</td>\n",
       "      <td>NaN</td>\n",
       "    </tr>\n",
       "    <tr>\n",
       "      <th>3421019</th>\n",
       "      <td>2227043</td>\n",
       "      <td>206208</td>\n",
       "      <td>1</td>\n",
       "      <td>1</td>\n",
       "      <td>15</td>\n",
       "      <td>NaN</td>\n",
       "    </tr>\n",
       "    <tr>\n",
       "      <th>3421069</th>\n",
       "      <td>3154581</td>\n",
       "      <td>206209</td>\n",
       "      <td>1</td>\n",
       "      <td>3</td>\n",
       "      <td>11</td>\n",
       "      <td>NaN</td>\n",
       "    </tr>\n",
       "  </tbody>\n",
       "</table>\n",
       "<p>206209 rows × 6 columns</p>\n",
       "</div>"
      ],
      "text/plain": [
       "        order_id user_id  number_of_orders  orders_days_of_week  \\\n",
       "0        2539329       1                 1                    2   \n",
       "11       2168274       2                 1                    2   \n",
       "26       1374495       3                 1                    1   \n",
       "39       3343014       4                 1                    6   \n",
       "45       2717275       5                 1                    3   \n",
       "...          ...     ...               ...                  ...   \n",
       "3420930   969311  206205                 1                    4   \n",
       "3420934  3189322  206206                 1                    3   \n",
       "3421002  2166133  206207                 1                    6   \n",
       "3421019  2227043  206208                 1                    1   \n",
       "3421069  3154581  206209                 1                    3   \n",
       "\n",
       "         order_hour_of_day  days_since_prior_order  \n",
       "0                        8                     NaN  \n",
       "11                      11                     NaN  \n",
       "26                      14                     NaN  \n",
       "39                      11                     NaN  \n",
       "45                      12                     NaN  \n",
       "...                    ...                     ...  \n",
       "3420930                 12                     NaN  \n",
       "3420934                 18                     NaN  \n",
       "3421002                 19                     NaN  \n",
       "3421019                 15                     NaN  \n",
       "3421069                 11                     NaN  \n",
       "\n",
       "[206209 rows x 6 columns]"
      ]
     },
     "execution_count": 16,
     "metadata": {},
     "output_type": "execute_result"
    }
   ],
   "source": [
    "# displaying rows with missing days_since_prior_order\n",
    "df_days_since_missing"
   ]
  },
  {
   "cell_type": "code",
   "execution_count": 17,
   "id": "26d62d67",
   "metadata": {},
   "outputs": [
    {
     "data": {
      "text/html": [
       "<div>\n",
       "<style scoped>\n",
       "    .dataframe tbody tr th:only-of-type {\n",
       "        vertical-align: middle;\n",
       "    }\n",
       "\n",
       "    .dataframe tbody tr th {\n",
       "        vertical-align: top;\n",
       "    }\n",
       "\n",
       "    .dataframe thead th {\n",
       "        text-align: right;\n",
       "    }\n",
       "</style>\n",
       "<table border=\"1\" class=\"dataframe\">\n",
       "  <thead>\n",
       "    <tr style=\"text-align: right;\">\n",
       "      <th></th>\n",
       "      <th>order_id</th>\n",
       "      <th>user_id</th>\n",
       "      <th>number_of_orders</th>\n",
       "      <th>orders_days_of_week</th>\n",
       "      <th>order_hour_of_day</th>\n",
       "      <th>days_since_prior_order</th>\n",
       "    </tr>\n",
       "  </thead>\n",
       "  <tbody>\n",
       "  </tbody>\n",
       "</table>\n",
       "</div>"
      ],
      "text/plain": [
       "Empty DataFrame\n",
       "Columns: [order_id, user_id, number_of_orders, orders_days_of_week, order_hour_of_day, days_since_prior_order]\n",
       "Index: []"
      ]
     },
     "execution_count": 17,
     "metadata": {},
     "output_type": "execute_result"
    }
   ],
   "source": [
    "# Double check if any data with 1 'number of orders' and days_since_prior_order is not null\n",
    "df_ords[(df_ords['number_of_orders']==1) & (df_ords['days_since_prior_order'].isnull()==False)]"
   ]
  },
  {
   "cell_type": "code",
   "execution_count": 20,
   "id": "6fc7d847",
   "metadata": {},
   "outputs": [],
   "source": [
    "crosstab = pd.crosstab(df_ords['days_since_prior_order'], df_ords['number_of_orders'], dropna = False)"
   ]
  },
  {
   "cell_type": "code",
   "execution_count": 24,
   "id": "34454e0a",
   "metadata": {},
   "outputs": [],
   "source": [
    "crosstab.to_clipboard()"
   ]
  },
  {
   "cell_type": "markdown",
   "id": "54518242",
   "metadata": {},
   "source": [
    "#### Address missing values\n",
    "\n",
    "All users (206,209) have their first order a missing 'days_since_prior_order' value. This makes sense since this is their first order recorded and so having any value days_since_prior_order wouldn't make sense\n",
    "\n",
    "I have decided to leave the data as is and not impute values. The data can help recognise customers who have only made 1 order or new customers. "
   ]
  },
  {
   "cell_type": "markdown",
   "id": "14d9920a",
   "metadata": {},
   "source": [
    "### Check & Address Duplicates"
   ]
  },
  {
   "cell_type": "code",
   "execution_count": 57,
   "id": "1505c15e",
   "metadata": {},
   "outputs": [
    {
     "data": {
      "text/plain": [
       "(0, 6)"
      ]
     },
     "execution_count": 57,
     "metadata": {},
     "output_type": "execute_result"
    }
   ],
   "source": [
    "# create a subset of duplicate records and check shape\n",
    "df_dups = df_ords[df_ords.duplicated()]\n",
    "df_dups.shape"
   ]
  },
  {
   "cell_type": "markdown",
   "id": "76d375c9",
   "metadata": {},
   "source": [
    "Number of rows df_dups = 0. This shows there are no duplicates in orders dataset"
   ]
  },
  {
   "cell_type": "markdown",
   "id": "c12a4909",
   "metadata": {},
   "source": [
    "### Export orders"
   ]
  },
  {
   "cell_type": "code",
   "execution_count": 58,
   "id": "a5ebe8f5",
   "metadata": {},
   "outputs": [],
   "source": [
    "df_ords.to_csv(os.path.join(path, 'Prepared Data/orders_checked.csv'))"
   ]
  }
 ],
 "metadata": {
  "kernelspec": {
   "display_name": "Python 3 (ipykernel)",
   "language": "python",
   "name": "python3"
  },
  "language_info": {
   "codemirror_mode": {
    "name": "ipython",
    "version": 3
   },
   "file_extension": ".py",
   "mimetype": "text/x-python",
   "name": "python",
   "nbconvert_exporter": "python",
   "pygments_lexer": "ipython3",
   "version": "3.11.5"
  }
 },
 "nbformat": 4,
 "nbformat_minor": 5
}
